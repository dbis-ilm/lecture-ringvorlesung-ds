{
 "cells": [
  {
   "cell_type": "markdown",
   "id": "2c8eec05",
   "metadata": {
    "deletable": false,
    "editable": false
   },
   "source": [
    "# Was ist Pandas\n",
    "Pandas ist eine Bibliothek, die flexible und schnelle Datenstrukturen zur Datenanalyse bereitstellt. Die Entwickler verstehen es als **das** Werkzeug zur praktischen Datenanalyse in Python. Der Name steht als Kurzform für *Panel Data*. Dementsprechend werden tabellarische Daten verwendet, verändert und zusammengefasst, um Erkenntnisse zu gewinnen. Pandas selbst dient aber auch als Grundlage für andere Bibliotheken, wie beispielsweise das in einem späteren Abschnitt vorgestellte *Plotly*."
   ]
  },
  {
   "cell_type": "markdown",
   "id": "abbcafdf",
   "metadata": {
    "deletable": false,
    "editable": false
   },
   "source": [
    "## Inhaltsverzeichnis\n",
    "- [Import](#Import)\n",
    "- [`Series`](#Series)\n",
    "- [`DataFrame`](#DataFrame)\n",
    "- [`NaN`](#NaN)\n",
    "- [`shape` und `info`](#shape-und-info)\n",
    "- [`head` und `tail`](#head-und-tail)"
   ]
  },
  {
   "cell_type": "markdown",
   "id": "e1e01991",
   "metadata": {
    "deletable": false,
    "editable": false
   },
   "source": [
    "## Import\n",
    "Pandas muss als Bibliothek installiert und importiert werden. Häufig wird der Alias `pd` verwendet."
   ]
  },
  {
   "cell_type": "code",
   "execution_count": null,
   "id": "3d45e1fb",
   "metadata": {
    "deletable": false
   },
   "outputs": [],
   "source": [
    "import pandas as pd"
   ]
  },
  {
   "cell_type": "markdown",
   "id": "d25270ae",
   "metadata": {
    "deletable": false,
    "editable": false
   },
   "source": [
    "## `Series`\n",
    "Series sind eindimensionale Arrays. Sie verhalten sich wie `ndarray` aus NumPy, wobei zu jedem Element ein Bezeichner gespeichert werden kann. Im Folgenden werden Sie diese Bezeichner als `index` kennenlernen.\n",
    "\n",
    "Series werden als Objekt erstellt und erhalten als ersten Parameter des Konstruktors entweder einen Iterator oder einen skalaren Wert."
   ]
  },
  {
   "cell_type": "code",
   "execution_count": null,
   "id": "297e4964",
   "metadata": {
    "deletable": false
   },
   "outputs": [],
   "source": [
    "pd.Series([1, 3, 5, 7])"
   ]
  },
  {
   "cell_type": "markdown",
   "id": "75e21bb7",
   "metadata": {
    "deletable": false,
    "editable": false
   },
   "source": [
    "Die Ausgabe enthält bereits einen Hinweis auf die Verwendung von NumPy im Hintergrund. Der Typ der enthaltenen Daten wurde automatisch bestimmt und auf `int64` gesetzt. Da Arrays heterogene Daten enthalten müssen, kann bereits ein abweichendes Element den Datentyp der gesamten Reihe verändern."
   ]
  },
  {
   "cell_type": "code",
   "execution_count": null,
   "id": "2f896342",
   "metadata": {
    "deletable": false
   },
   "outputs": [],
   "source": [
    "pd.Series([1, 3, 5.0, 7])"
   ]
  },
  {
   "cell_type": "markdown",
   "id": "f8d002a0",
   "metadata": {
    "deletable": false,
    "editable": false
   },
   "source": [
    "Ohne Angabe des Parameter `index` wird automatisch ein nummerierter Index mit dem Startwert $0$ erstellt. Sie können diesen jedoch auch selbst anlegen, indem Sie entweder ein Objekt zur Erstellung verwenden, das Schlüssel vorgibt, oder eine Liste von Bezeichnern übergeben."
   ]
  },
  {
   "cell_type": "code",
   "execution_count": null,
   "id": "b34190ac",
   "metadata": {
    "deletable": false
   },
   "outputs": [],
   "source": [
    "pd.Series({\n",
    "    'a': 1,\n",
    "    'b': 2,\n",
    "    'c': 3,\n",
    "    'd': 4\n",
    "})"
   ]
  },
  {
   "cell_type": "code",
   "execution_count": null,
   "id": "d7a04ce2",
   "metadata": {
    "deletable": false
   },
   "outputs": [],
   "source": [
    "pd.Series([5, 6, 7, 8], index=['e', 'f', 'g', 'h'])"
   ]
  },
  {
   "cell_type": "markdown",
   "id": "974cca10",
   "metadata": {
    "deletable": false,
    "editable": false
   },
   "source": [
    "Pandas versucht in jedem Fall, die Verknüpfung zwischen Element und Label aufrechtzuerhalten. Slicing wird beispielsweise gleichermaßen auf die Daten wie auf den Index angewendet."
   ]
  },
  {
   "cell_type": "code",
   "execution_count": null,
   "id": "d36d2650",
   "metadata": {
    "deletable": false
   },
   "outputs": [],
   "source": [
    "pd.Series({\n",
    "    'a': 1,\n",
    "    'b': 2,\n",
    "    'c': 3,\n",
    "    'd': 4\n",
    "})[1:3]"
   ]
  },
  {
   "cell_type": "markdown",
   "id": "50976ee4",
   "metadata": {
    "deletable": false,
    "editable": false
   },
   "source": [
    "Pandas nutzt diese Bezeichner ebenfalls, wenn Operationen mit zwei Series durchgeführt werden. Die folgende Zelle erstellt zwei Series, die zwar beide jeweils zwei Elemente beinhalten, sich jedoch nur in einem Label gleichen. Bei der Addition wird nun also nur für den Bezeichner `b` ein Wert in jeder Series gefunden. In allen anderen Fällen fehlt dagegen ein Operand und das Ergebnis lautet [`NaN`](#NaN)."
   ]
  },
  {
   "cell_type": "code",
   "execution_count": null,
   "id": "91129dd1",
   "metadata": {
    "deletable": false
   },
   "outputs": [],
   "source": [
    "a = pd.Series({'a': 1, 'b': 2})\n",
    "b = pd.Series({'b': 2, 'c': 3})\n",
    "\n",
    "a + b"
   ]
  },
  {
   "cell_type": "markdown",
   "id": "7ded649d",
   "metadata": {
    "deletable": false,
    "editable": false
   },
   "source": [
    "## `DataFrame`\n",
    "DataFrames hingegen dienen der tabellarischen Repräsentation von Daten. Stellen Sie sich ein DataFrame wie ein Spreadsheet in einem Excel-Dokument oder wie eine einzelne Tabelle einer relationalen Datenbank vor.\n",
    "\n",
    "DataFrames werden analog zu Series angelegt. `index` gilt dabei als Bezeichner für jeweils eine gesamte Zeile, während `columns` die Namen der Spalten angibt."
   ]
  },
  {
   "cell_type": "code",
   "execution_count": null,
   "id": "bfdaf440",
   "metadata": {
    "deletable": false
   },
   "outputs": [],
   "source": [
    "pd.DataFrame([\n",
    "    [1, 2, 3],\n",
    "    [4, 5, 6],\n",
    "    [7, 8, 9]\n",
    "], index=['row1', 'row2', 'row3'], columns=['col1', 'col2', 'col3'])"
   ]
  },
  {
   "cell_type": "markdown",
   "id": "2f7b9347",
   "metadata": {
    "deletable": false,
    "editable": false
   },
   "source": [
    "Intern sind DataFrames eine Verknüpfung verschiedener Series. So können Sie auch ein DataFrame mit Hilfe eines Dictionaries erstellen, das als Schlüssel den Namen der Spalte und als Wert die Series beinhalten. Die Reihen werden anhand der Indizes der Series bestimmt und sogar vervollständigt, um die Tabellenstruktur einzuhalten."
   ]
  },
  {
   "cell_type": "code",
   "execution_count": null,
   "id": "e0e67428",
   "metadata": {
    "deletable": false
   },
   "outputs": [],
   "source": [
    "series_a = pd.Series({'a': 1, 'b': 2})\n",
    "series_b = pd.Series({'b': 3, 'c': 4})\n",
    "\n",
    "pd.DataFrame({\n",
    "    'col_a': series_a,\n",
    "    'col_b': series_b\n",
    "})"
   ]
  },
  {
   "cell_type": "markdown",
   "id": "63bd5218",
   "metadata": {
    "deletable": false,
    "editable": false
   },
   "source": [
    "## `NaN`\n",
    "`NaN` steht für \"**N**ot **a** **N**umber\" und bezeichnet einen speziellen Wert innerhalb der Gleitkommazahlen. NaN kommt immer dann zum Einsatz, wenn ein Wert nicht definiert oder nicht darstellbar ist."
   ]
  },
  {
   "cell_type": "code",
   "execution_count": null,
   "id": "d288e66a",
   "metadata": {
    "deletable": false
   },
   "outputs": [],
   "source": [
    "number = float('NaN')\n",
    "number, type(number)"
   ]
  },
  {
   "cell_type": "markdown",
   "id": "1df7ff3d",
   "metadata": {
    "deletable": false,
    "editable": false
   },
   "source": [
    "Vergleiche mit NaN sind immer falsch."
   ]
  },
  {
   "cell_type": "code",
   "execution_count": null,
   "id": "60790705",
   "metadata": {
    "deletable": false
   },
   "outputs": [],
   "source": [
    "number == 0, number < 0, number > 0, number == number"
   ]
  },
  {
   "cell_type": "markdown",
   "id": "6ae5531f",
   "metadata": {
    "deletable": false,
    "editable": false
   },
   "source": [
    "Mathematische Operationen mit NaN ergeben immer NaN."
   ]
  },
  {
   "cell_type": "code",
   "execution_count": null,
   "id": "f2f0f86c",
   "metadata": {
    "deletable": false
   },
   "outputs": [],
   "source": [
    "number + 1, number * 2"
   ]
  },
  {
   "cell_type": "markdown",
   "id": "1b858ac1",
   "metadata": {
    "deletable": false,
    "editable": false
   },
   "source": [
    "Einen Fall, in dem NaN entsteht, haben Sie bereits beim Zusammenfügen zweier Series zu einem DataFrame gesehen. Übergeben Sie beim Anlegen einer Series oder eines DataFrames NaN oder `None`, so wird auch als Wert NaN gespeichert."
   ]
  },
  {
   "cell_type": "code",
   "execution_count": null,
   "id": "63599801",
   "metadata": {
    "deletable": false
   },
   "outputs": [],
   "source": [
    "df = pd.DataFrame([1, None, float('NaN'), 4])\n",
    "df"
   ]
  },
  {
   "cell_type": "markdown",
   "id": "55ddb9d2",
   "metadata": {
    "deletable": false,
    "editable": false
   },
   "source": [
    "Vergleiche mit NaN sind immer falsch."
   ]
  },
  {
   "cell_type": "code",
   "execution_count": null,
   "id": "5218d70f",
   "metadata": {
    "deletable": false
   },
   "outputs": [],
   "source": [
    "df > 2"
   ]
  },
  {
   "cell_type": "markdown",
   "id": "3e8bc1c5",
   "metadata": {
    "deletable": false,
    "editable": false
   },
   "source": [
    "Mathematische Operationen, bei denen ein Operand NaN ist, ergeben ebenfalls NaN."
   ]
  },
  {
   "cell_type": "code",
   "execution_count": null,
   "id": "e251ab95",
   "metadata": {
    "deletable": false
   },
   "outputs": [],
   "source": [
    "df2 = pd.DataFrame([1, 2, 3, None])\n",
    "df + df2"
   ]
  },
  {
   "cell_type": "markdown",
   "id": "5185ea02",
   "metadata": {
    "deletable": false,
    "editable": false
   },
   "source": [
    "## `shape` und `info`"
   ]
  },
  {
   "cell_type": "markdown",
   "id": "b8f0a348",
   "metadata": {
    "deletable": false,
    "editable": false
   },
   "source": [
    "Mit `shape` erhalten Sie analog zu NumPy die Größe des DataFrame."
   ]
  },
  {
   "cell_type": "code",
   "execution_count": null,
   "id": "e7902228",
   "metadata": {
    "deletable": false
   },
   "outputs": [],
   "source": [
    "pd.DataFrame([\n",
    "    [1, 2, 3],\n",
    "    [4, 5, 6]\n",
    "]).shape"
   ]
  },
  {
   "cell_type": "markdown",
   "id": "a107b53d",
   "metadata": {
    "deletable": false,
    "editable": false
   },
   "source": [
    "Die Methode `info` zeigt detailliertere Informationen über die enthaltenen Daten und die Speichernutzung."
   ]
  },
  {
   "cell_type": "code",
   "execution_count": null,
   "id": "9ca5f422",
   "metadata": {
    "deletable": false
   },
   "outputs": [],
   "source": [
    "pd.DataFrame([\n",
    "    [1, 2, 3],\n",
    "    [4, 5, 6]\n",
    "]).info()"
   ]
  },
  {
   "cell_type": "markdown",
   "id": "86259f9c",
   "metadata": {
    "deletable": false,
    "editable": false
   },
   "source": [
    "## `head` und `tail`\n",
    "Die Methode `head` zeigt die ersten Zeilen eines DataFrames. `tail` dagegen zeigt die letzten Zeilen. Die Anzahl lässt sich mit Hilfe des übergebenen Parameters festlegen. Der Index bleibt auch bei diesen Methoden erhalten."
   ]
  },
  {
   "cell_type": "code",
   "execution_count": null,
   "id": "ed2ac49b",
   "metadata": {
    "deletable": false
   },
   "outputs": [],
   "source": [
    "pd.DataFrame([\n",
    "    [1, 2, 3],\n",
    "    [4, 5, 6],\n",
    "    [7, 8, 9]\n",
    "]).head(2)"
   ]
  },
  {
   "cell_type": "code",
   "execution_count": null,
   "id": "79103912",
   "metadata": {
    "deletable": false
   },
   "outputs": [],
   "source": [
    "pd.DataFrame([\n",
    "    [1, 2, 3],\n",
    "    [4, 5, 6],\n",
    "    [7, 8, 9]\n",
    "]).tail(2)"
   ]
  }
 ],
 "metadata": {
  "kernelspec": {
   "display_name": "Python 3 (ipykernel)",
   "language": "python",
   "name": "python3"
  },
  "language_info": {
   "codemirror_mode": {
    "name": "ipython",
    "version": 3
   },
   "file_extension": ".py",
   "mimetype": "text/x-python",
   "name": "python",
   "nbconvert_exporter": "python",
   "pygments_lexer": "ipython3",
   "version": "3.8.10"
  }
 },
 "nbformat": 4,
 "nbformat_minor": 5
}

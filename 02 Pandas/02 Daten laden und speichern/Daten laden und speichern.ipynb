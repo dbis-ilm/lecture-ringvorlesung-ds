{
 "cells": [
  {
   "cell_type": "markdown",
   "id": "fcdaf620",
   "metadata": {
    "deletable": false,
    "editable": false
   },
   "source": [
    "# Daten laden und speichern\n",
    "In diesem Abschnitt wird das Laden und Speichern in und aus Dateien mittels Pandas thematisiert. Dazu werden erneut Auszüge aus dem Datensatz [Disney+ Movies and TV Shows](https://www.kaggle.com/code/werador/disney-data-analysis/data) verwendet. Importieren Sie zuerst Pandas."
   ]
  },
  {
   "cell_type": "code",
   "execution_count": null,
   "id": "965070ce",
   "metadata": {
    "deletable": false
   },
   "outputs": [],
   "source": [
    "import pandas as pd\n",
    "from os import path, remove"
   ]
  },
  {
   "cell_type": "markdown",
   "id": "62490a8e",
   "metadata": {
    "deletable": false,
    "editable": false
   },
   "source": [
    "## Inhaltsverzeichnis\n",
    "- [CSV](#CSV)\n",
    "- [JSON](#JSON)\n",
    "- [Pickle](#Pickle)\n",
    "- [Kompression](#Kompression)\n",
    "- [Löschen temporärer Daten](#Löschen-temporärer-Daten)"
   ]
  },
  {
   "cell_type": "markdown",
   "id": "9eaf24fc",
   "metadata": {
    "deletable": false,
    "editable": false
   },
   "source": [
    "## CSV\n",
    "Pandas kann CSV-Dateien laden und verwendet dabei die erste Zeile automatisch als Spaltennamen."
   ]
  },
  {
   "cell_type": "code",
   "execution_count": null,
   "id": "c381a998",
   "metadata": {
    "deletable": false
   },
   "outputs": [],
   "source": [
    "df_from_csv = pd.read_csv('disney_plus_titles.csv')\n",
    "df_from_csv.head(3)"
   ]
  },
  {
   "cell_type": "markdown",
   "id": "071d5901",
   "metadata": {
    "deletable": false,
    "editable": false
   },
   "source": [
    "DataFrames können auch als CSV gespeichert werden. Beachten Sie bitte, dass der Index ebenfalls als erste Spalte gespeichert wurde, auch wenn er nicht im ursprünglichen Datensatz enthalten war. Das Verhalten lässt sich mit dem Parameter `index` beeinflussen."
   ]
  },
  {
   "cell_type": "code",
   "execution_count": null,
   "id": "3691506f",
   "metadata": {
    "deletable": false
   },
   "outputs": [],
   "source": [
    "df_from_csv.to_csv('disney_plus_titles_2.csv')"
   ]
  },
  {
   "cell_type": "markdown",
   "id": "ccab23dc",
   "metadata": {
    "deletable": false,
    "editable": false
   },
   "source": [
    "## JSON\n",
    "Pandas kann ebenfalls mit JSON-Dateien interagieren. Standardmäßig wird die Datei spaltenweise gelesen. Mit dem Parameter `orient` lässt sich jedoch die Reihenfolge verändern."
   ]
  },
  {
   "cell_type": "code",
   "execution_count": null,
   "id": "f6d7e062",
   "metadata": {
    "deletable": false
   },
   "outputs": [],
   "source": [
    "df_from_json = pd.read_json('disney_plus_titles.json', orient='records')\n",
    "df_from_json.head(3)"
   ]
  },
  {
   "cell_type": "markdown",
   "id": "1bf13641",
   "metadata": {
    "deletable": false,
    "editable": false
   },
   "source": [
    "Ein DataFrame kann auch als JSON gespeichert werden. Die Reihenfolge kann dabei ebenfalls mit dem Parameter `orient` beeinflusst werden."
   ]
  },
  {
   "cell_type": "code",
   "execution_count": null,
   "id": "5ca7f4fe",
   "metadata": {
    "deletable": false
   },
   "outputs": [],
   "source": [
    "df_from_json.to_json('disney_plus_titles_2.json', indent=4)"
   ]
  },
  {
   "cell_type": "markdown",
   "id": "f966d7b9",
   "metadata": {
    "deletable": false,
    "editable": false
   },
   "source": [
    "## Pickle\n",
    "Auch Pandas erlaubt das Lesen aus mit Pickle serialisierten Objekten."
   ]
  },
  {
   "cell_type": "code",
   "execution_count": null,
   "id": "e74c7461",
   "metadata": {
    "deletable": false
   },
   "outputs": [],
   "source": [
    "df_from_pickle = pd.read_pickle('disney_plus_titles.pickle')\n",
    "df_from_pickle.head(3)"
   ]
  },
  {
   "cell_type": "markdown",
   "id": "77fe1ce1",
   "metadata": {
    "deletable": false,
    "editable": false
   },
   "source": [
    "Natürlich lässt sich auch ein im Speicher befindliches DataFrame serialisieren und schreiben."
   ]
  },
  {
   "cell_type": "code",
   "execution_count": null,
   "id": "a91c8e72",
   "metadata": {
    "deletable": false
   },
   "outputs": [],
   "source": [
    "df_from_pickle.to_pickle('disney_plus_titles_2.pickle')"
   ]
  },
  {
   "cell_type": "markdown",
   "id": "760954b8",
   "metadata": {
    "deletable": false,
    "editable": false
   },
   "source": [
    "## Kompression\n",
    "Beim Speichern lässt sich mit Hilfe des Parameters `compression` eine der Kompressionsarten `zip`, `gzip`, `bz2` oder `zstd` aktivieren. Die folgende Zelle verwendet bzip2, um den Export als CSV zu komprimieren. Mit `to_json` und `to_pickle` kann der Parameter analog verwendet werden."
   ]
  },
  {
   "cell_type": "code",
   "execution_count": null,
   "id": "60eda2f9",
   "metadata": {
    "deletable": false
   },
   "outputs": [],
   "source": [
    "df_from_csv.to_csv('disney_plus_titles_2_compressed.csv.bz2',\n",
    "                   compression='bz2', index=False)"
   ]
  },
  {
   "cell_type": "markdown",
   "id": "078c4a11",
   "metadata": {
    "deletable": false,
    "editable": false
   },
   "source": [
    "In der Dateigröße ist erneut ein deutlicher Unterschied zu erkennen."
   ]
  },
  {
   "cell_type": "code",
   "execution_count": null,
   "id": "cfcca386",
   "metadata": {
    "deletable": false
   },
   "outputs": [],
   "source": [
    "for filename in 'disney_plus_titles_2.csv', 'disney_plus_titles_2_compressed.csv.bz2':\n",
    "    print(f'{filename:40} {path.getsize(filename) // 1024: 4} KiB')"
   ]
  },
  {
   "cell_type": "markdown",
   "id": "cfa22b54",
   "metadata": {
    "deletable": false,
    "editable": false
   },
   "source": [
    "Beim Einlesen kann der `compression` Parameter ebenfalls gesetzt werden. Wenn die Dateiendung passend zur Kompressionsmethode gewählt wurde, erkennt Pandas automatisch die verwendete Kompression."
   ]
  },
  {
   "cell_type": "code",
   "execution_count": null,
   "id": "1b59b764",
   "metadata": {
    "deletable": false
   },
   "outputs": [],
   "source": [
    "df_from_compressed_csv = pd.read_csv('disney_plus_titles_2_compressed.csv.bz2')\n",
    "df_from_compressed_csv.head(3)"
   ]
  },
  {
   "cell_type": "markdown",
   "id": "7ea4525b",
   "metadata": {
    "deletable": false,
    "editable": false
   },
   "source": [
    "## Löschen temporärer Daten\n",
    "Die folgende Zelle entfernt die angelegten Dateien."
   ]
  },
  {
   "cell_type": "code",
   "execution_count": null,
   "id": "84b2b1ed",
   "metadata": {
    "deletable": false
   },
   "outputs": [],
   "source": [
    "for file in ('disney_plus_titles_2.csv',\n",
    "             'disney_plus_titles_2.json',\n",
    "             'disney_plus_titles_2.pickle',\n",
    "             'disney_plus_titles_2_compressed.csv.bz2'):\n",
    "    if path.exists(file):\n",
    "        remove(file)"
   ]
  }
 ],
 "metadata": {
  "kernelspec": {
   "display_name": "Python 3 (ipykernel)",
   "language": "python",
   "name": "python3"
  },
  "language_info": {
   "codemirror_mode": {
    "name": "ipython",
    "version": 3
   },
   "file_extension": ".py",
   "mimetype": "text/x-python",
   "name": "python",
   "nbconvert_exporter": "python",
   "pygments_lexer": "ipython3",
   "version": "3.12.11"
  }
 },
 "nbformat": 4,
 "nbformat_minor": 5
}

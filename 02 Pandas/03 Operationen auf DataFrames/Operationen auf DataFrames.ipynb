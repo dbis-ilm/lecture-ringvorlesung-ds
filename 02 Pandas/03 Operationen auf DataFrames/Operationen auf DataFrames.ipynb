{
 "cells": [
  {
   "cell_type": "markdown",
   "id": "b6c8d29c",
   "metadata": {
    "deletable": false,
    "editable": false
   },
   "source": [
    "# Operationen auf DataFrames\n",
    "In diesem Abschnitt werden Ihnen grundlegende Operationen auf DataFrames vorgestellt, die bei der Arbeit mit Pandas hilfreich sind. Zur Veranschaulichung wird ein DataFrame benötigt. Die folgende Zelle lädt Pandas und Ausschnitte aus dem Datensatz [Disney+ Movies and TV Shows](https://www.kaggle.com/code/werador/disney-data-analysis/data)."
   ]
  },
  {
   "cell_type": "code",
   "execution_count": null,
   "id": "c47f22fb",
   "metadata": {
    "deletable": false
   },
   "outputs": [],
   "source": [
    "import pandas as pd"
   ]
  },
  {
   "cell_type": "code",
   "execution_count": null,
   "id": "54e4529d-1597-4f7f-923c-3890a2f1b6c0",
   "metadata": {
    "deletable": false
   },
   "outputs": [],
   "source": [
    "df_titles = pd.read_csv('disney_plus_titles.csv')\n",
    "df_titles.head(5)"
   ]
  },
  {
   "cell_type": "markdown",
   "id": "538e5bb4",
   "metadata": {
    "deletable": false,
    "editable": false
   },
   "source": [
    "## Inhaltsverzeichnis\n",
    "- [`describe`](#describe)\n",
    "- [`assign` und `insert`](#assign-und-insert)\n",
    "- [`drop`](#drop)\n",
    "- [Überschreiben von Spalten](#Überschreiben-von-Spalten)\n",
    "- [Projektion](#Projektion)\n",
    "- [Selektion](#Selektion)\n",
    "- [Join](#Join)\n",
    "- [Sortierung](#Sortierung)\n",
    "- [Gruppierung](#Gruppierung)\n",
    "- [Aggregation](#Aggregation)\n",
    "- [`map`](#map)\n",
    "- [`cut`](#cut)\n",
    "- [Hinweise zum Datensatz](#Hinweise-zum-Datensatz)"
   ]
  },
  {
   "cell_type": "markdown",
   "id": "0aac4349",
   "metadata": {
    "deletable": false,
    "editable": false
   },
   "source": [
    "## `describe`\n",
    "Die Methode `describe` fasst einige statistische Kennzahlen für jede einzelne Spalte zusammen und gibt die errechneten Werte aus. Damit können Sie einen ersten Einblick in die Daten bekommen."
   ]
  },
  {
   "cell_type": "code",
   "execution_count": null,
   "id": "dab32c7e",
   "metadata": {
    "deletable": false
   },
   "outputs": [],
   "source": [
    "df_titles.describe()"
   ]
  },
  {
   "cell_type": "markdown",
   "id": "3e7d1ac0",
   "metadata": {
    "deletable": false,
    "editable": false
   },
   "source": [
    "Sie können sehen, dass Pandas dabei numerische Spalten bevorzugt. Mit den Parametern `include` und `exclude` können Sie Typen explizit ein- oder ausschließen."
   ]
  },
  {
   "cell_type": "code",
   "execution_count": null,
   "id": "262c5fdc",
   "metadata": {
    "deletable": false
   },
   "outputs": [],
   "source": [
    "df_titles.describe(include=['object'])"
   ]
  },
  {
   "cell_type": "markdown",
   "id": "ec4950ff",
   "metadata": {
    "deletable": false,
    "editable": false
   },
   "source": [
    "## `assign` und `insert`\n",
    "Im vorangestellten Abschnitt haben Sie bereits die Verknüpfung zwischen Series und DataFrame kennengelernt. Um einem bereits bestehenden DataFrame neue Spalten hinzuzufügen, existieren zwei Methoden.\n",
    "\n",
    "Die erste lautet `insert` und erwartet als Parameter die Position, den Namen und die Werte der Spalte. Die Funktion verändert das DataFrame, ohne zuvor eine Kopie anzulegen. In der folgenden Zelle wird daher mit einer Kopie des originalen DataFrames gearbeitet."
   ]
  },
  {
   "cell_type": "code",
   "execution_count": null,
   "id": "b1db8ae1",
   "metadata": {
    "deletable": false
   },
   "outputs": [],
   "source": [
    "df_copy = df_titles.copy()\n",
    "\n",
    "series = pd.Series(range(1, 2 * 1450, 2))\n",
    "df_copy.insert(1, 'odd_numbers', series)\n",
    "\n",
    "df_copy.head(3)"
   ]
  },
  {
   "cell_type": "markdown",
   "id": "fb09489e",
   "metadata": {
    "deletable": false,
    "editable": false
   },
   "source": [
    "Die zweite Methode wird mit `assign` aufgerufen und erstellt eine Kopie, bevor die neue Spalte eingetragen wird. Alle neuen Spalten werden als benanntes Argument übergeben. Es existiert keine Möglichkeit, die Spalten an einer bestimmten Stelle einzufügen."
   ]
  },
  {
   "cell_type": "code",
   "execution_count": null,
   "id": "fb53eedd",
   "metadata": {
    "deletable": false
   },
   "outputs": [],
   "source": [
    "series = pd.Series(range(0, 2 * 1450, 2))\n",
    "\n",
    "df_assign = df_titles.assign(even_numbers=series)\n",
    "df_assign.head(3)"
   ]
  },
  {
   "cell_type": "markdown",
   "id": "38e95fc4",
   "metadata": {
    "deletable": false,
    "editable": false
   },
   "source": [
    "## `drop`\n",
    "Mit Hilfe der Funktion `drop` lassen sich Spalten entfernen. Als Parameter wird eine Liste mit den Namen der Spalten und die entsprechende Achse erwartet. Auch diese Operation gibt eine veränderte Kopie zurück und wirkt sich nicht auf das ursprüngliche DataFrame aus."
   ]
  },
  {
   "cell_type": "code",
   "execution_count": null,
   "id": "242b7436",
   "metadata": {
    "deletable": false
   },
   "outputs": [],
   "source": [
    "df_drop = df_titles.drop(['show_id', 'type', 'listed_in'], axis=1)\n",
    "df_drop.head(3)"
   ]
  },
  {
   "cell_type": "code",
   "execution_count": null,
   "id": "29b5923c",
   "metadata": {
    "deletable": false
   },
   "outputs": [],
   "source": [
    "df_titles.head(3)"
   ]
  },
  {
   "cell_type": "markdown",
   "id": "0050c5a9",
   "metadata": {
    "deletable": false,
    "editable": false
   },
   "source": [
    "## Überschreiben von Spalten\n",
    "Spalten lassen sich durch Zuweisungen analog zu einem Dictionary überschreiben und anlegen. Skalare Werte werden wiederholt, iterierbare Objekte dagegen müssen die selbe Länge die das DataFrame besitzen. Das DataFrame wird bei dieser Operation verändert, weshalb erneut mit einer Kopie demonstriert wird."
   ]
  },
  {
   "cell_type": "code",
   "execution_count": null,
   "id": "14db9195",
   "metadata": {
    "deletable": false
   },
   "outputs": [],
   "source": [
    "df_copy = df_titles.copy()\n",
    "\n",
    "df_copy['type'] = 'exclusive'\n",
    "df_copy['show_id'] = df_titles['duration'] - 10\n",
    "df_copy['odd_numbers'] = range(1450, 0, -1)\n",
    "\n",
    "df_copy.head(5)"
   ]
  },
  {
   "cell_type": "markdown",
   "id": "324e4323",
   "metadata": {
    "deletable": false,
    "editable": false
   },
   "source": [
    "## Projektion\n",
    "Die Projektion beschreibt eine relationale Operation. Dabei werden Attribute oder Spalten ausgewählt. Übergeben Sie Pandas eine Liste von Spaltennamen, um sie in ein neues DataFrame zu kopieren."
   ]
  },
  {
   "cell_type": "code",
   "execution_count": null,
   "id": "3377ba93",
   "metadata": {
    "deletable": false
   },
   "outputs": [],
   "source": [
    "df_projektion = df_titles[['show_id', 'title']]\n",
    "df_projektion.head(3)"
   ]
  },
  {
   "cell_type": "markdown",
   "id": "3ed65193",
   "metadata": {
    "deletable": false,
    "editable": false
   },
   "source": [
    "## Selektion\n",
    "Die Selektion beschreibt eine Operation, bei der Tupel nach einem Prädikat gefiltert werden. Übergeben Sie Pandas eine Series mit dem Datentyp `bool`, um Zeilen zu filtern."
   ]
  },
  {
   "cell_type": "code",
   "execution_count": null,
   "id": "a1823090",
   "metadata": {
    "deletable": false
   },
   "outputs": [],
   "source": [
    "s = df_titles['title'] > 'S'\n",
    "s.head(5)"
   ]
  },
  {
   "cell_type": "code",
   "execution_count": null,
   "id": "19be7799",
   "metadata": {
    "deletable": false
   },
   "outputs": [],
   "source": [
    "df_titles[s].head(5)"
   ]
  },
  {
   "cell_type": "markdown",
   "id": "908bad1f",
   "metadata": {
    "deletable": false,
    "editable": false
   },
   "source": [
    "## Join\n",
    "Ein Join bildet aus zwei Datensätzen ein Ergebnis. In Pandas steht dafür die Funktion `join` bereit. Laden Sie zunächst eine weitere Tabelle, die Bewertungen der TMDb Nutzer enthält."
   ]
  },
  {
   "cell_type": "code",
   "execution_count": null,
   "id": "cf69aeb1",
   "metadata": {
    "deletable": false
   },
   "outputs": [],
   "source": [
    "df_ratings = pd.read_csv('disney_plus_ratings.csv')\n",
    "df_ratings.head(5)"
   ]
  },
  {
   "cell_type": "markdown",
   "id": "ffa8ef3e",
   "metadata": {
    "deletable": false,
    "editable": false
   },
   "source": [
    "Der Parameter `how` gibt die Art des Joins vor. Standardmäßig wird ein Left-Join auf Basis der Indizes beider DataFrames durchgeführt."
   ]
  },
  {
   "cell_type": "code",
   "execution_count": null,
   "id": "023d6bb0",
   "metadata": {
    "deletable": false
   },
   "outputs": [],
   "source": [
    "df_join = df_titles.join(df_ratings)\n",
    "df_join.head(5)"
   ]
  },
  {
   "cell_type": "markdown",
   "id": "41485c87",
   "metadata": {
    "deletable": false,
    "editable": false
   },
   "source": [
    "Anhand der Spalten `show_id` und `show` des Ergebnisses sehen Sie, dass der Join anhand des Zeilenindex kein sinnvolles Ergebnis liefert. Alternativ zu `join` existiert deshalb die Funktion `merge`, die genutzt werden sollte, falls nicht anhand der Indizes, sondern anhand einer Spalte in jeder Tabelle verknüpft wird."
   ]
  },
  {
   "cell_type": "code",
   "execution_count": null,
   "id": "54c8f970",
   "metadata": {
    "deletable": false
   },
   "outputs": [],
   "source": [
    "df_merge = pd.merge(df_titles, df_ratings,\n",
    "                    left_on='show_id', right_on='show')\n",
    "df_merge.head(5)"
   ]
  },
  {
   "cell_type": "markdown",
   "id": "d9def4a5",
   "metadata": {
    "deletable": false,
    "editable": false
   },
   "source": [
    "## Sortierung\n",
    "Pandas bietet die Methode `sort_values`, um nach den Werten einer Spalte zu sortieren."
   ]
  },
  {
   "cell_type": "code",
   "execution_count": null,
   "id": "319c5a27",
   "metadata": {
    "deletable": false
   },
   "outputs": [],
   "source": [
    "df_sort = df_titles.sort_values('title')\n",
    "df_sort.head(5)"
   ]
  },
  {
   "cell_type": "markdown",
   "id": "4d273de5",
   "metadata": {
    "deletable": false,
    "editable": false
   },
   "source": [
    "Auch die Sortierung nach mehreren Spalten ist möglich."
   ]
  },
  {
   "cell_type": "code",
   "execution_count": null,
   "id": "f3cdf195",
   "metadata": {
    "deletable": false
   },
   "outputs": [],
   "source": [
    "df_sort = df_titles.sort_values(['release_year', 'title'])\n",
    "df_sort.head(5)"
   ]
  },
  {
   "cell_type": "markdown",
   "id": "3c42ce02",
   "metadata": {
    "deletable": false,
    "editable": false
   },
   "source": [
    "## Gruppierung\n",
    "Mit der Funktion `groupby` können Sie nach einer spezifischen Spalte gruppieren."
   ]
  },
  {
   "cell_type": "code",
   "execution_count": null,
   "id": "e6b4e1de",
   "metadata": {
    "deletable": false
   },
   "outputs": [],
   "source": [
    "df_group_by_year = df_titles.groupby('release_year')\n",
    "df_group_by_year"
   ]
  },
  {
   "cell_type": "markdown",
   "id": "aa29a622",
   "metadata": {
    "deletable": false,
    "editable": false
   },
   "source": [
    "## Aggregation\n",
    "Das Ergebnis ist vom Typ `DataFrameGroupBy` und kann mehrfach verwendet werden. Die folgenden Zellen zeigen eine Auswahl der Funktionen, die verwendet werden können."
   ]
  },
  {
   "cell_type": "code",
   "execution_count": null,
   "id": "35c7e8f6",
   "metadata": {
    "deletable": false
   },
   "outputs": [],
   "source": [
    "# Summe pro Jahr\n",
    "df_group_by_year.sum('duration').head(5)"
   ]
  },
  {
   "cell_type": "code",
   "execution_count": null,
   "id": "b0844cdb",
   "metadata": {
    "deletable": false
   },
   "outputs": [],
   "source": [
    "# Durchschnitt pro Jahr\n",
    "df_group_by_year.mean('duration').head(5)"
   ]
  },
  {
   "cell_type": "code",
   "execution_count": null,
   "id": "0a45143a",
   "metadata": {
    "deletable": false
   },
   "outputs": [],
   "source": [
    "# Median pro Jahr\n",
    "df_group_by_year.median('duration').head(5)"
   ]
  },
  {
   "cell_type": "code",
   "execution_count": null,
   "id": "5c99e2bd",
   "metadata": {
    "deletable": false
   },
   "outputs": [],
   "source": [
    "# Minimum pro Jahr\n",
    "df_group_by_year.min('duration').head(5)"
   ]
  },
  {
   "cell_type": "code",
   "execution_count": null,
   "id": "527aaf8b",
   "metadata": {
    "deletable": false
   },
   "outputs": [],
   "source": [
    "# Maximum pro Jahr\n",
    "df_group_by_year.max('duration').head(5)"
   ]
  },
  {
   "cell_type": "code",
   "execution_count": null,
   "id": "0e81fe06",
   "metadata": {
    "deletable": false
   },
   "outputs": [],
   "source": [
    "# Anzahl pro Jahr\n",
    "df_group_by_year.size().head(5)"
   ]
  },
  {
   "cell_type": "code",
   "execution_count": null,
   "id": "17396156",
   "metadata": {
    "deletable": false
   },
   "outputs": [],
   "source": [
    "# Eigene Aggregationsfunktion\n",
    "df_group_by_year.agg(lambda x: x.astype('str').str.upper()).head(5)"
   ]
  },
  {
   "cell_type": "markdown",
   "id": "730613b0",
   "metadata": {
    "deletable": false,
    "editable": false
   },
   "source": [
    "## `map`\n",
    "`map` dient dazu, eine Funktion elementweise auf eine Series anzuwenden."
   ]
  },
  {
   "cell_type": "code",
   "execution_count": null,
   "id": "025f3655",
   "metadata": {
    "deletable": false
   },
   "outputs": [],
   "source": [
    "df_titles['release_year_p5'] = df_titles['release_year'].map(lambda x: x + 5)\n",
    "df_titles.head(5)"
   ]
  },
  {
   "cell_type": "markdown",
   "id": "056450e5",
   "metadata": {
    "deletable": false,
    "editable": false
   },
   "source": [
    "Alternativ kann auch ein Dictionary übergeben werden. Enthaltene Werte werden dann ersetzt."
   ]
  },
  {
   "cell_type": "code",
   "execution_count": null,
   "id": "f4121bfd",
   "metadata": {
    "deletable": false
   },
   "outputs": [],
   "source": [
    "df_titles['type_de'] = df_titles['type'].map({'Movie': 'Film', 'TV Show': 'Serie'})\n",
    "df_titles.head(5)"
   ]
  },
  {
   "cell_type": "markdown",
   "id": "c4bb05a0",
   "metadata": {
    "deletable": false,
    "editable": false
   },
   "source": [
    "Verwenden Sie alternativ `apply` und `applymap`, um entsprechend mit DataFrames zu interagieren."
   ]
  },
  {
   "cell_type": "markdown",
   "id": "2381aad2",
   "metadata": {
    "deletable": false,
    "editable": false
   },
   "source": [
    "## `cut`\n",
    "Mit der Funktion `cut` können Daten in eine festgelegte Anzahl an Kategorien sortiert werden. Mit dem Parameter `labels` können Namen festgelegt werden, sodass nicht die Intervalle verwendet werden. Die Grenzen der Kategorien werden bei numerischen Daten äquidistant gewählt. NaN-Werte bleiben NaN."
   ]
  },
  {
   "cell_type": "code",
   "execution_count": null,
   "id": "fcaab7a9",
   "metadata": {
    "deletable": false
   },
   "outputs": [],
   "source": [
    "pd.cut(df_titles['duration'], 3, labels=['kurz', 'mittel', 'lang'])"
   ]
  },
  {
   "cell_type": "markdown",
   "id": "af12f69e",
   "metadata": {
    "deletable": false,
    "editable": false
   },
   "source": [
    "Alternativ lassen sich die Intervallgrenzen manuell festlegen. Beachten Sie, dass die Intervallgrenzen ein Element mehr als die Labels enthalten müssen."
   ]
  },
  {
   "cell_type": "code",
   "execution_count": null,
   "id": "7d7dad64",
   "metadata": {
    "deletable": false
   },
   "outputs": [],
   "source": [
    "pd.cut(df_titles['duration'], [0, 20, 60, df_titles['duration'].max()], labels=['kurz', 'mittel', 'lang'])"
   ]
  },
  {
   "attachments": {
    "1.png": {
     "image/png": "[encoded data removed]"
    }
   },
   "cell_type": "markdown",
   "id": "22cbfddf",
   "metadata": {
    "deletable": false,
    "editable": false
   },
   "source": [
    "## Hinweise zum Datensatz\n",
    "Ein Teil der Ihnen zur Verfügung gestellten Daten wurden mit Hilfe der TMDb API erzeugt. Die Verwendung wird weder von TMDb unterstützt noch zertifiziert.\n",
    "\n",
    "[![TMDb Logo](attachment:1.png)](https://developers.themoviedb.org/3)"
   ]
  }
 ],
 "metadata": {
  "kernelspec": {
   "display_name": "Python 3 (ipykernel)",
   "language": "python",
   "name": "python3"
  },
  "language_info": {
   "codemirror_mode": {
    "name": "ipython",
    "version": 3
   },
   "file_extension": ".py",
   "mimetype": "text/x-python",
   "name": "python",
   "nbconvert_exporter": "python",
   "pygments_lexer": "ipython3",
   "version": "3.12.11"
  }
 },
 "nbformat": 4,
 "nbformat_minor": 5
}

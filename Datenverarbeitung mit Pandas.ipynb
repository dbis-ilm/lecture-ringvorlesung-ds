{
 "cells": [
  {
   "cell_type": "markdown",
   "id": "4ae02709-cf66-48d9-a540-fd85d6582a32",
   "metadata": {
    "deletable": false,
    "editable": false
   },
   "source": [
    "# Datenverarbeitung mit Pandas"
   ]
  },
  {
   "cell_type": "markdown",
   "id": "e4efa0c0-42cf-48c4-82fa-ac4259a38461",
   "metadata": {
    "deletable": false,
    "editable": false
   },
   "source": [
    "## Inhaltsverzeichnis\n",
    "- [Pandas importieren](#Pandas-importieren)\n",
    "- [DataFrames anlegen und laden](#DataFrames-anlegen-und-laden)\n",
    "- [Profiling](#Profiling)\n",
    "- [Modifikation](#Modifikation)\n",
    "  - [Fehlende Werte](#Fehlende-Werte)\n",
    "  - [Normalisierung](#Normalisierung)\n",
    "  - [Rechnen mit mehreren Spalten](#Rechnen-mit-mehreren-Spalten)\n",
    "  - [Diskretisierung](#Diskretisierung)\n",
    "  - [Sampling](#Sampling)\n",
    "- [Relationale Operationen](#Relationale-Operationen)\n",
    "  - [Projektion](#Projektion)\n",
    "  - [Selektion](#Selektion)\n",
    "  - [Natural Join](#Natural-Join)\n",
    "  - [Sortierung](#Sortierung)\n",
    "  - [Aggregation und Gruppierung](#Aggregation-und-Gruppierung)\n",
    "- [Darstellung](#Darstellung)"
   ]
  },
  {
   "cell_type": "markdown",
   "id": "5210ed29-5f4b-4a62-bbba-56d157de47ec",
   "metadata": {
    "deletable": false,
    "editable": false
   },
   "source": [
    "## Pandas importieren"
   ]
  },
  {
   "cell_type": "code",
   "execution_count": null,
   "id": "16803a88-6e2d-41ee-a93c-81b36456741f",
   "metadata": {
    "deletable": false
   },
   "outputs": [],
   "source": [
    "import pandas as pd\n",
    "import numpy as np"
   ]
  },
  {
   "cell_type": "markdown",
   "id": "bad96ae4-67ef-45d4-a39f-f58083caa92f",
   "metadata": {
    "deletable": false,
    "editable": false
   },
   "source": [
    "## DataFrames anlegen und laden"
   ]
  },
  {
   "cell_type": "code",
   "execution_count": null,
   "id": "d4959f38-e394-4f91-9f95-2400dc6eef1c",
   "metadata": {
    "deletable": false
   },
   "outputs": [],
   "source": [
    "erzeuger = pd.DataFrame([\n",
    "    ['Creek', 'Barossa Valley', 'Südaustralien'],\n",
    "    ['Helena', 'Napa Valley', 'Kalifornien'],\n",
    "    ['Château La Rose', 'Saint-Emilion', 'Bordeaux'],\n",
    "    ['Müller', 'Rheingau', 'Hessen'],\n",
    "    ['Bighorn', 'Napa Valley', np.nan],\n",
    "], columns=['Weingut', 'Anbaugebiet', 'Region'])\n",
    "erzeuger"
   ]
  },
  {
   "cell_type": "code",
   "execution_count": null,
   "id": "c122c725-1ae3-4d30-bcf0-1d2096c87223",
   "metadata": {
    "deletable": false
   },
   "outputs": [],
   "source": [
    "weine = pd.read_csv('weine.csv')\n",
    "weine"
   ]
  },
  {
   "cell_type": "markdown",
   "id": "c729db19-f314-4330-893b-2037cba58960",
   "metadata": {
    "deletable": false,
    "editable": false
   },
   "source": [
    "## Profiling"
   ]
  },
  {
   "cell_type": "code",
   "execution_count": null,
   "id": "fa52c206-13ce-446f-bdd2-c28775c5cc58",
   "metadata": {
    "deletable": false
   },
   "outputs": [],
   "source": [
    "weine.describe()"
   ]
  },
  {
   "cell_type": "code",
   "execution_count": null,
   "id": "9caa3d94-793e-4fcd-ad04-7b34bd0ca80c",
   "metadata": {
    "deletable": false
   },
   "outputs": [],
   "source": [
    "weine.hist(bins=20, figsize=(30, 5))"
   ]
  },
  {
   "cell_type": "markdown",
   "id": "13309f6a-37bb-4535-9042-d45a0a31bddd",
   "metadata": {
    "deletable": false,
    "editable": false
   },
   "source": [
    "## Modifikation"
   ]
  },
  {
   "cell_type": "markdown",
   "id": "85f9089e-b7ce-42e5-b81f-7aa24538c023",
   "metadata": {
    "deletable": false,
    "editable": false
   },
   "source": [
    "### Fehlende Werte"
   ]
  },
  {
   "cell_type": "code",
   "execution_count": null,
   "id": "06b1fa82-441e-4908-bc5f-7a3966275384",
   "metadata": {
    "deletable": false
   },
   "outputs": [],
   "source": [
    "erzeuger.fillna('Unbekannt')"
   ]
  },
  {
   "cell_type": "markdown",
   "id": "c2d618f6-f675-4d1e-bdc9-1a82d0c8933d",
   "metadata": {
    "deletable": false,
    "editable": false
   },
   "source": [
    "### Normalisierung"
   ]
  },
  {
   "cell_type": "code",
   "execution_count": null,
   "id": "4badba78-3fbc-453a-8fde-f0f5d27c704f",
   "metadata": {
    "deletable": false
   },
   "outputs": [],
   "source": [
    "def usd_to_eur(x):\n",
    "    eur = float(x[:-1])\n",
    "    if x.endswith('$'):\n",
    "        eur *= 0.92\n",
    "\n",
    "    return eur\n",
    "\n",
    "weine['EuroPreis'] = weine['Preis'].map(usd_to_eur)\n",
    "weine"
   ]
  },
  {
   "cell_type": "markdown",
   "id": "a973250f-6ce6-4b88-8075-2e3bce6a3463",
   "metadata": {
    "deletable": false,
    "editable": false
   },
   "source": [
    "### Rechnen mit mehreren Spalten"
   ]
  },
  {
   "cell_type": "code",
   "execution_count": null,
   "id": "b9577cf9-873d-4b83-aca9-ee11a21e354c",
   "metadata": {
    "deletable": false
   },
   "outputs": [],
   "source": [
    "weine['Beschreibung'] = weine['Jahrgang'].astype(str) + 'er ' + weine['Name']\n",
    "weine"
   ]
  },
  {
   "cell_type": "markdown",
   "id": "3b914521-30b5-4903-83e9-080f0ba63d48",
   "metadata": {
    "deletable": false,
    "editable": false
   },
   "source": [
    "### Diskretisierung"
   ]
  },
  {
   "cell_type": "code",
   "execution_count": null,
   "id": "379bb320-c3e0-424d-af71-0ed55b5c18bd",
   "metadata": {
    "deletable": false
   },
   "outputs": [],
   "source": [
    "weine['Kategorie'] = pd.cut(weine['EuroPreis'], 2, labels=['günstig', 'teuer'])\n",
    "weine"
   ]
  },
  {
   "cell_type": "markdown",
   "id": "3444bc8a-d532-4a87-a9d5-9b0cf1349c82",
   "metadata": {
    "deletable": false,
    "editable": false
   },
   "source": [
    "### Sampling"
   ]
  },
  {
   "cell_type": "code",
   "execution_count": null,
   "id": "c4e7d244-884e-48cf-a4d1-5cbba3db2531",
   "metadata": {
    "deletable": false
   },
   "outputs": [],
   "source": [
    "weine.sample(3)"
   ]
  },
  {
   "cell_type": "markdown",
   "id": "97a3dce5-1514-4c40-b93e-5a54d353462f",
   "metadata": {
    "deletable": false,
    "editable": false
   },
   "source": [
    "## Relationale Operationen"
   ]
  },
  {
   "cell_type": "markdown",
   "id": "2d26dd84-3cb8-4093-8ddf-23c954fe70b0",
   "metadata": {
    "deletable": false,
    "editable": false
   },
   "source": [
    "### Projektion"
   ]
  },
  {
   "cell_type": "code",
   "execution_count": null,
   "id": "92ae5519-199a-4a72-8765-8138b4450fab",
   "metadata": {
    "deletable": false
   },
   "outputs": [],
   "source": [
    "weine[['Name', 'Farbe']]"
   ]
  },
  {
   "cell_type": "markdown",
   "id": "8df0ee0a-c450-4d19-a48c-31750621fca9",
   "metadata": {
    "deletable": false,
    "editable": false
   },
   "source": [
    "### Selektion"
   ]
  },
  {
   "cell_type": "code",
   "execution_count": null,
   "id": "ed9dfc48-da1d-43a5-be44-5a74a1fa39ee",
   "metadata": {
    "deletable": false
   },
   "outputs": [],
   "source": [
    "weine[weine['Farbe'] == 'Weiß']"
   ]
  },
  {
   "cell_type": "markdown",
   "id": "ded08613-4e2f-48f2-a5d2-4187cb9cfaba",
   "metadata": {
    "deletable": false,
    "editable": false
   },
   "source": [
    "### Natural Join"
   ]
  },
  {
   "cell_type": "code",
   "execution_count": null,
   "id": "2d279100-14f9-47e2-a0f1-f0ca6e6b1653",
   "metadata": {
    "deletable": false
   },
   "outputs": [],
   "source": [
    "pd.merge(weine, erzeuger)"
   ]
  },
  {
   "cell_type": "markdown",
   "id": "cdb76b46-a418-4361-8732-d8d7db989598",
   "metadata": {
    "deletable": false,
    "editable": false
   },
   "source": [
    "### Sortierung"
   ]
  },
  {
   "cell_type": "code",
   "execution_count": null,
   "id": "2a0c2738-546d-4cbd-9a91-98091c0cf854",
   "metadata": {
    "deletable": false
   },
   "outputs": [],
   "source": [
    "weine.sort_values('Jahrgang', ascending=False)"
   ]
  },
  {
   "cell_type": "markdown",
   "id": "ad6aa69b-1ae3-45ab-911e-2eee1ac5a0d0",
   "metadata": {
    "deletable": false,
    "editable": false
   },
   "source": [
    "### Aggregation und Gruppierung"
   ]
  },
  {
   "cell_type": "code",
   "execution_count": null,
   "id": "bcbfbdfb-e40b-47d4-9767-4463311a9199",
   "metadata": {
    "deletable": false
   },
   "outputs": [],
   "source": [
    "weine['Jahrgang'].min()"
   ]
  },
  {
   "cell_type": "code",
   "execution_count": null,
   "id": "599cc81b-c9a9-4e3d-8f4b-afbba2b325e7",
   "metadata": {
    "deletable": false
   },
   "outputs": [],
   "source": [
    "weine.groupby('Farbe')['Jahrgang'].mean()"
   ]
  },
  {
   "cell_type": "markdown",
   "id": "9b8af57a-23f4-4c0c-bc9a-5c07d2320d4c",
   "metadata": {
    "deletable": false,
    "editable": false
   },
   "source": [
    "## Darstellung"
   ]
  },
  {
   "cell_type": "code",
   "execution_count": null,
   "id": "ad09a8d4-1af8-4cc1-b9fb-c885be3deb1d",
   "metadata": {
    "deletable": false
   },
   "outputs": [],
   "source": [
    "import plotly.express as px\n",
    "px.scatter(weine, x='Jahrgang', y='Preis')"
   ]
  }
 ],
 "metadata": {
  "kernelspec": {
   "display_name": "Python 3 (ipykernel)",
   "language": "python",
   "name": "python3"
  },
  "language_info": {
   "codemirror_mode": {
    "name": "ipython",
    "version": 3
   },
   "file_extension": ".py",
   "mimetype": "text/x-python",
   "name": "python",
   "nbconvert_exporter": "python",
   "pygments_lexer": "ipython3",
   "version": "3.11.9"
  }
 },
 "nbformat": 4,
 "nbformat_minor": 5
}

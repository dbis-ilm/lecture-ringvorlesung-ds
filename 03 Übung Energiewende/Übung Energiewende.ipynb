{
 "cells": [
  {
   "cell_type": "markdown",
   "id": "f1c34b07-24cb-47c5-a535-828ab099c9a0",
   "metadata": {
    "deletable": false,
    "editable": false
   },
   "source": [
    "# Übungsaufgaben"
   ]
  },
  {
   "cell_type": "code",
   "execution_count": null,
   "id": "0b3e3321-a84e-40ab-bf86-8d8949d95414",
   "metadata": {
    "deletable": false,
    "editable": false
   },
   "outputs": [],
   "source": [
    "import pyreadstat\n",
    "import pandas as pd\n",
    "import plotly.express as px\n",
    "\n",
    "from tui_rvds.uebung1 import *\n",
    "\n",
    "pd.set_option('display.max_columns', None)"
   ]
  },
  {
   "cell_type": "markdown",
   "id": "dfd5553d-36c8-448c-8396-e66f3db1172f",
   "metadata": {
    "deletable": false,
    "editable": false
   },
   "source": [
    "## Inhaltsverzeichnis\n",
    "- [Aufgabe 1: Daten laden](#Aufgabe-1-Daten-laden)\n",
    "- [Aufgabe 2: Reduktion und Bereiche](#Aufgabe-2-Reduktion-und-Bereiche)\n",
    "  - [Projektion](#Projektion)\n",
    "  - [Datentypen](#Datentypen)\n",
    "  - [Wertebereiche](#Wertebereiche)\n",
    "- [Aufgabe 3: Behandlung spezieller Werte](#Aufgabe-3-Behandlung-spezieller-Werte)\n",
    "  - [Diskretisierung](#Diskretisierung)\n",
    "- [Aufgabe 4: Datenfehler suchen und erkennen](#Aufgabe-4-Datenfehler-suchen-und-erkennen)\n",
    "  - [Fehlende Werte](#Fehlende-Werte)\n",
    "  - [Geringe Bearbeitungsdauer](#Geringe-Bearbeitungsdauer)\n",
    "  - [weiß nicht](#weiß-nicht)\n",
    "- [Aufgabe 5: Visuelle Zusammenhangsanalyse](#Aufgabe-5-Visuelle-Zusammenhangsanalyse)"
   ]
  },
  {
   "cell_type": "markdown",
   "id": "fe233dfb-05b9-4053-8282-405ae27cf532",
   "metadata": {
    "deletable": false,
    "editable": false
   },
   "source": [
    "## Aufgabe 1: Daten laden\n",
    "Verwenden Sie `pyreadstat`, um den Datensatz `welle1_daten.sav` in Form eines Pandas DataFrame (`df`) zu laden. (Diese Daten wurden mit [SPSS](https://www.ibm.com/de-de/products/spss-statistics) gespeichert und müssen daher zunächst konvertiert werden.)"
   ]
  },
  {
   "cell_type": "code",
   "execution_count": null,
   "id": "f1987c06-f53c-40a7-b1ba-446c677a4e42",
   "metadata": {
    "deletable": false
   },
   "outputs": [],
   "source": [
    "raw_df, _ = pyreadstat.read_sav('')"
   ]
  },
  {
   "cell_type": "code",
   "execution_count": null,
   "id": "ff2fa7c6-8720-42aa-bc03-3225847f3574",
   "metadata": {
    "deletable": false,
    "editable": false
   },
   "outputs": [],
   "source": [
    "aufgabe1_1(raw_df)"
   ]
  },
  {
   "cell_type": "markdown",
   "id": "d52c8069-0dda-4630-bf5f-6595a740ab55",
   "metadata": {
    "deletable": false,
    "editable": false
   },
   "source": [
    "Die Spalten sind durchnummeriert und daher schlecht auswertbar. Die Datei `welle1_spalten.txt` enthält die korrekten Spaltennamen in der Form `<Alter Name>: <Neuer Name>`. Laden Sie diese Datei und verwenden Sie die enthaltenen Namen zur Umbenennung."
   ]
  },
  {
   "cell_type": "code",
   "execution_count": null,
   "id": "10966cf4-98cb-4e3f-8b75-a37b3f943c49",
   "metadata": {
    "deletable": false
   },
   "outputs": [],
   "source": [
    "new_column_names = {}\n",
    "\n",
    "with open('', 'r', encoding='utf-8') as file:\n",
    "    for line in file:\n",
    "        source, target = line.strip().split(': ')\n",
    "        new_column_names[source] = target"
   ]
  },
  {
   "cell_type": "code",
   "execution_count": null,
   "id": "eb18df6d-ede5-4c80-a959-a64e6538212f",
   "metadata": {
    "deletable": false
   },
   "outputs": [],
   "source": [
    "df = raw_df.rename(columns=...)\n",
    "df"
   ]
  },
  {
   "cell_type": "code",
   "execution_count": null,
   "id": "3fef34cc-9c13-4d83-954e-a957feb5067d",
   "metadata": {
    "deletable": false,
    "editable": false
   },
   "outputs": [],
   "source": [
    "aufgabe1_2(df)"
   ]
  },
  {
   "cell_type": "markdown",
   "id": "377c640c-ccce-4b68-83fc-ddd0fe780380",
   "metadata": {
    "deletable": false,
    "editable": false
   },
   "source": [
    "## Aufgabe 2: Reduktion und Bereiche"
   ]
  },
  {
   "cell_type": "markdown",
   "id": "54c440a7-b4a0-4883-a0ff-2297a91cc355",
   "metadata": {
    "deletable": false,
    "editable": false
   },
   "source": [
    "### Projektion\n",
    "Während der Befragung wurden eine Vielzahl von Parametern erfasst, die wir in dieser Übung nicht benötigen. Belassen Sie nur die folgenden Spalten im DataFrame:\n",
    "\n",
    "1. `duration1`\n",
    "1. `age1`\n",
    "1. `sex1`\n",
    "1. `edu1`\n",
    "1. `federalstate1`\n",
    "1. `location1`\n",
    "1. `region1`\n",
    "1. `int_pol1`\n",
    "1. `int_enccpol1`\n",
    "1. `int_ccresearch1`\n",
    "1. `int_techdevre1`\n",
    "1. `int_techdevhyd1`"
   ]
  },
  {
   "cell_type": "code",
   "execution_count": null,
   "id": "ba46dc31-4fdb-40b8-b650-3ced7f26f2a7",
   "metadata": {
    "deletable": false
   },
   "outputs": [],
   "source": [
    "df = df[[\n",
    "    'erste Spalte',\n",
    "    'zweite Spalte',\n",
    "    '...'\n",
    "]]\n",
    "\n",
    "df"
   ]
  },
  {
   "cell_type": "code",
   "execution_count": null,
   "id": "4c26d983-8388-4747-a4e0-2ad386413423",
   "metadata": {
    "deletable": false,
    "editable": false
   },
   "outputs": [],
   "source": [
    "aufgabe2_1(df)"
   ]
  },
  {
   "cell_type": "markdown",
   "id": "b46721a2-ed32-4563-83cb-f1fc4cf84a31",
   "metadata": {
    "deletable": false,
    "editable": false
   },
   "source": [
    "### Datentypen\n",
    "Alle Spalten werden als Gleitkommazahlen (`float64`) eingelesen. In der erste Übersicht liegt allerdings der Verdacht nahe, dass ganze Zahlen ausreichen. Prüfen Sie für jede Spalte, ob Nachkommastellen vorhanden sind. Wenn das nicht der Fall ist, konvertieren Sie die entsprechende Spalte zu ganzen Zahlen (`int64`)."
   ]
  },
  {
   "cell_type": "code",
   "execution_count": null,
   "id": "e5f74f17-e215-4653-bfca-6635c1b6346f",
   "metadata": {
    "deletable": false
   },
   "outputs": [],
   "source": [
    "(df['duration1'] % 1 == 0).all()"
   ]
  },
  {
   "cell_type": "code",
   "execution_count": null,
   "id": "a74a61b4-140a-4079-93bb-d4665c9b2935",
   "metadata": {
    "deletable": false
   },
   "outputs": [],
   "source": [
    "df['duration1'] = df['duration1'].astype(int)"
   ]
  },
  {
   "cell_type": "code",
   "execution_count": null,
   "id": "72600586-a63c-4892-9ce4-8c7d5e4b8283",
   "metadata": {
    "deletable": false
   },
   "outputs": [],
   "source": [
    "# TODO: 'age1', 'sex1', 'edu1', 'federalstate1', 'int_pol1', 'int_enccpol1', 'int_ccresearch1', 'int_techdevre1', 'int_techdevhyd1'"
   ]
  },
  {
   "cell_type": "code",
   "execution_count": null,
   "id": "e5f096b3-8936-4a98-97a5-7dae9c747a58",
   "metadata": {
    "deletable": false,
    "editable": false
   },
   "outputs": [],
   "source": [
    "aufgabe2_2(df)"
   ]
  },
  {
   "cell_type": "markdown",
   "id": "7abaf8b7-ea16-4e3d-82cd-c4174d462289",
   "metadata": {
    "deletable": false,
    "editable": false
   },
   "source": [
    "### Wertebereiche\n",
    "Verschaffen Sie sich einen Überblick über die Wertebereiche aller Variablen und achten Sie auf widersprüchliche Werte."
   ]
  },
  {
   "cell_type": "code",
   "execution_count": null,
   "id": "fd23915a-2b9f-4cbb-8e88-650f08af2ac7",
   "metadata": {
    "deletable": false,
    "editable": false
   },
   "outputs": [],
   "source": [
    "df['duration1'].describe()"
   ]
  },
  {
   "cell_type": "code",
   "execution_count": null,
   "id": "a4c49a10-05f6-4ffe-a03f-62e375932a01",
   "metadata": {
    "deletable": false,
    "editable": false
   },
   "outputs": [],
   "source": [
    "px.histogram(df['duration1'])"
   ]
  },
  {
   "cell_type": "code",
   "execution_count": null,
   "id": "289f6d61-29c9-44ab-9cc3-3ebdb765fa77",
   "metadata": {
    "deletable": false,
    "editable": false
   },
   "outputs": [],
   "source": [
    "df['age1'].describe()"
   ]
  },
  {
   "cell_type": "code",
   "execution_count": null,
   "id": "35eea759-c544-4e9c-aa62-a292586c58fb",
   "metadata": {
    "deletable": false,
    "editable": false
   },
   "outputs": [],
   "source": [
    "px.histogram(df['age1'])"
   ]
  },
  {
   "cell_type": "code",
   "execution_count": null,
   "id": "e8389011-156c-48bd-b8bf-ff1aff93db2d",
   "metadata": {
    "deletable": false,
    "editable": false
   },
   "outputs": [],
   "source": [
    "df['sex1'].describe()"
   ]
  },
  {
   "cell_type": "code",
   "execution_count": null,
   "id": "daa0fa45-62c2-4ca5-9a38-46be1469d8fd",
   "metadata": {
    "deletable": false,
    "editable": false
   },
   "outputs": [],
   "source": [
    "px.histogram(df['sex1'])"
   ]
  },
  {
   "cell_type": "code",
   "execution_count": null,
   "id": "501c9898-95f4-4214-ae23-e5a72f80e9e1",
   "metadata": {
    "deletable": false,
    "editable": false
   },
   "outputs": [],
   "source": [
    "df['edu1'].describe()"
   ]
  },
  {
   "cell_type": "code",
   "execution_count": null,
   "id": "fec79368-58ce-4074-b8f8-ed1c563b1048",
   "metadata": {
    "deletable": false,
    "editable": false
   },
   "outputs": [],
   "source": [
    "px.histogram(df['edu1'])"
   ]
  },
  {
   "cell_type": "code",
   "execution_count": null,
   "id": "2745bc90-abe7-4840-8fcd-cec6b99d5033",
   "metadata": {
    "deletable": false,
    "editable": false
   },
   "outputs": [],
   "source": [
    "df['federalstate1'].describe()"
   ]
  },
  {
   "cell_type": "code",
   "execution_count": null,
   "id": "7bd2d158-ca91-4b8f-9200-c7cffa04a4fb",
   "metadata": {
    "deletable": false,
    "editable": false
   },
   "outputs": [],
   "source": [
    "px.histogram(df['federalstate1'])"
   ]
  },
  {
   "cell_type": "code",
   "execution_count": null,
   "id": "b75346fa-c620-4313-9b44-5015ef7974da",
   "metadata": {
    "deletable": false,
    "editable": false
   },
   "outputs": [],
   "source": [
    "df['int_pol1'].describe()"
   ]
  },
  {
   "cell_type": "code",
   "execution_count": null,
   "id": "5551599a-20e6-42bf-856c-572ec4f30c2c",
   "metadata": {
    "deletable": false,
    "editable": false
   },
   "outputs": [],
   "source": [
    "px.histogram(df['int_pol1'])"
   ]
  },
  {
   "cell_type": "code",
   "execution_count": null,
   "id": "3f139c92-4beb-4837-953a-bc7dca12ef4d",
   "metadata": {
    "deletable": false,
    "editable": false
   },
   "outputs": [],
   "source": [
    "df['int_enccpol1'].describe()"
   ]
  },
  {
   "cell_type": "code",
   "execution_count": null,
   "id": "82e564ee-5aaf-4d8f-a18f-1f9a9d23e13f",
   "metadata": {
    "deletable": false,
    "editable": false
   },
   "outputs": [],
   "source": [
    "px.histogram(df['int_enccpol1'])"
   ]
  },
  {
   "cell_type": "code",
   "execution_count": null,
   "id": "b21e47ce-3c6c-42da-811c-a53cc2ee714f",
   "metadata": {
    "deletable": false,
    "editable": false
   },
   "outputs": [],
   "source": [
    "df['int_ccresearch1'].describe()"
   ]
  },
  {
   "cell_type": "code",
   "execution_count": null,
   "id": "7a499bbb-610c-4981-b7e2-3886169090ee",
   "metadata": {
    "deletable": false,
    "editable": false
   },
   "outputs": [],
   "source": [
    "px.histogram(df['int_ccresearch1'])"
   ]
  },
  {
   "cell_type": "code",
   "execution_count": null,
   "id": "efe6418e-d59c-4754-9576-1b9d92980cae",
   "metadata": {
    "deletable": false,
    "editable": false
   },
   "outputs": [],
   "source": [
    "df['int_techdevre1'].describe()"
   ]
  },
  {
   "cell_type": "code",
   "execution_count": null,
   "id": "a5c648b7-2bae-45da-bc17-043ff93de093",
   "metadata": {
    "deletable": false,
    "editable": false
   },
   "outputs": [],
   "source": [
    "px.histogram(df['int_techdevre1'])"
   ]
  },
  {
   "cell_type": "code",
   "execution_count": null,
   "id": "a96e1fed-922f-42a5-85c6-d495be6566c6",
   "metadata": {
    "deletable": false,
    "editable": false
   },
   "outputs": [],
   "source": [
    "df['int_techdevhyd1'].describe()"
   ]
  },
  {
   "cell_type": "code",
   "execution_count": null,
   "id": "3fc39004-6516-4998-872f-0f8d1707b9e6",
   "metadata": {
    "deletable": false,
    "editable": false
   },
   "outputs": [],
   "source": [
    "px.histogram(df['int_techdevhyd1'])"
   ]
  },
  {
   "cell_type": "markdown",
   "id": "9f094d71-c4be-4e36-8d23-3132c5bc6c65",
   "metadata": {
    "deletable": false,
    "editable": false
   },
   "source": [
    "## Aufgabe 3: Behandlung spezieller Werte"
   ]
  },
  {
   "cell_type": "markdown",
   "id": "8c42f9b2-c015-4545-a9d3-a34944d23fdb",
   "metadata": {
    "deletable": false,
    "editable": false
   },
   "source": [
    "Bei der Befragung konnte die Frage nach dem Geschlecht ausgelassen werden. Der Wert ist dann entweder $-77$ oder $3$. Ersetzen Sie beide Fälle mit `NaN`."
   ]
  },
  {
   "cell_type": "code",
   "execution_count": null,
   "id": "96abedda-5c36-4e27-aa9a-69f6c2ebbc34",
   "metadata": {
    "deletable": false
   },
   "outputs": [],
   "source": [
    "df['sex1'] = df['sex1'].replace([], None)"
   ]
  },
  {
   "cell_type": "code",
   "execution_count": null,
   "id": "cca6dfbe-f0d9-4f53-9e5b-83d19265b3db",
   "metadata": {
    "deletable": false,
    "editable": false
   },
   "outputs": [],
   "source": [
    "aufgabe3_1(df)"
   ]
  },
  {
   "cell_type": "markdown",
   "id": "ceb208c2-0d9e-40b4-b0d5-34ff56eecc96",
   "metadata": {
    "deletable": false,
    "editable": false
   },
   "source": [
    "Die Spalte `federalstate1` enthält das Bundesland als Zahl kodiert. Der Wert soll einer der fünf nachfolgenden Regionen zugeordnet und in der Spalte `region1` gespeichert werden. Dabei gilt die folgende Kodierung:\n",
    "- NRW: $10$\n",
    "- Nord: $5, 6, 9, 15$\n",
    "- Mitte: $11, 12, 7$\n",
    "- Süd: $1, 2$\n",
    "- Ost: $3, 4, 8, 13, 14, 16$"
   ]
  },
  {
   "cell_type": "code",
   "execution_count": null,
   "id": "bea898d3-3a29-499e-9b6a-90721bc74ade",
   "metadata": {
    "deletable": false
   },
   "outputs": [],
   "source": [
    "df['region1'] = df['federalstate1'].replace({\n",
    "    10: 'NRW',\n",
    "    5: 'Nord',\n",
    "    ...: ...\n",
    "})\n",
    "\n",
    "df"
   ]
  },
  {
   "cell_type": "code",
   "execution_count": null,
   "id": "ea2caf82-37d5-4a16-9e4a-b626c9981e5e",
   "metadata": {
    "deletable": false,
    "editable": false
   },
   "outputs": [],
   "source": [
    "aufgabe3_2(df)"
   ]
  },
  {
   "cell_type": "markdown",
   "id": "b2f9753d-7b9f-416f-8adf-d045f672b06d",
   "metadata": {
    "deletable": false,
    "editable": false
   },
   "source": [
    "### Diskretisierung\n",
    "Verwenden Sie die `cut`-Funktion, damit die Ordnung der Werte erhalten bleibt."
   ]
  },
  {
   "cell_type": "markdown",
   "id": "2cfe8aa2-2d37-4873-85d6-8ebc4ac6d594",
   "metadata": {
    "deletable": false,
    "editable": false
   },
   "source": [
    "Die Spalte `age1` enthält das Alter. Zur besseren Vergleichbarkeit sollen die Werte in vier Gruppen eingeteilt und in die neue Spalte `age1_grp` gespeichert werden.\n",
    "- Minimum bis 19\n",
    "- 20 bis 29\n",
    "- 30 bis 49\n",
    "- 50 bis Maximum"
   ]
  },
  {
   "cell_type": "code",
   "execution_count": null,
   "id": "82b20410-c981-4b8e-8a12-197066a1703a",
   "metadata": {
    "deletable": false,
    "editable": false
   },
   "outputs": [],
   "source": [
    "df['age1'].describe()"
   ]
  },
  {
   "cell_type": "code",
   "execution_count": null,
   "id": "863f04c5-e494-4f3c-91b7-88e9716d4f74",
   "metadata": {
    "deletable": false
   },
   "outputs": [],
   "source": [
    "df['age1_grp'] = pd.cut(\n",
    "    df['age1'],\n",
    "    bins=[...],\n",
    "    labels=['14 bis 19-Jährige', '20 bis 29-Jährige', '30 bis 49-Jährige', '50 bis 65-Jährige'],\n",
    "    include_lowest=True, right=False\n",
    ")\n",
    "df"
   ]
  },
  {
   "cell_type": "code",
   "execution_count": null,
   "id": "1b5fb88d-feac-4842-826d-5beef2097ef0",
   "metadata": {
    "deletable": false,
    "editable": false
   },
   "outputs": [],
   "source": [
    "aufgabe3_3(df)"
   ]
  },
  {
   "cell_type": "markdown",
   "id": "01d7f61a-6848-46fa-9448-65221284825e",
   "metadata": {
    "deletable": false,
    "editable": false
   },
   "source": [
    "Die Spalte `edu1` enthält das Bildungsniveau. $3$ steht dabei für ein mittleres Niveau, alles darunter für ein geringes und alles darüber für ein hohes. Speichern Sie diese Diskretisierung in eine Spalte `edu1_grp`."
   ]
  },
  {
   "cell_type": "code",
   "execution_count": null,
   "id": "4adcd19e-1de1-4ebe-bc14-0290299be9d6",
   "metadata": {
    "deletable": false
   },
   "outputs": [],
   "source": [
    "df['edu1_grp'] = pd.cut(\n",
    "    df['edu1'],\n",
    "    bins=[...],\n",
    "    labels=['niedrig', 'mittel', 'hoch'],\n",
    "    include_lowest=True, right=False\n",
    ")\n",
    "\n",
    "df"
   ]
  },
  {
   "cell_type": "code",
   "execution_count": null,
   "id": "f039a2bb-ccba-4864-aa99-b7da2cac7772",
   "metadata": {
    "deletable": false,
    "editable": false
   },
   "outputs": [],
   "source": [
    "aufgabe3_4(df)"
   ]
  },
  {
   "cell_type": "markdown",
   "id": "4257909c-3dcb-4235-8903-c8b4b6ba8712",
   "metadata": {
    "deletable": false,
    "editable": false
   },
   "source": [
    "Die Spalten `nt_pol1`, `int_enccpol1`, `int_ccresearch1`, `int_techdevre1` und `int_techdevhyd1` enthalten das Interesse bezüglich bestimmter Themenbereiche. Legen Sie für jedes der genannten Attribute eine Spalte mit dem Suffix `_grp` an und diskretisieren Sie die Werte nach dem folgenden Schema:\n",
    "- $1,2$: geringes Interesse\n",
    "- $3$: mittleres Interesse\n",
    "- $4,5$: großes Interesse\n",
    "- $99$: weiß nicht"
   ]
  },
  {
   "cell_type": "code",
   "execution_count": null,
   "id": "19490d17-ed37-4f88-a8ee-19a9bca742cd",
   "metadata": {
    "deletable": false
   },
   "outputs": [],
   "source": [
    "df['int_pol1_grp'] = pd.cut(\n",
    "    df['int_pol1'],\n",
    "    bins=[...],\n",
    "    labels=['geringes Interesse', 'mittleres Interesse', 'großes Interesse', 'weiß nicht'],\n",
    "    include_lowest=True, right=False\n",
    ")"
   ]
  },
  {
   "cell_type": "code",
   "execution_count": null,
   "id": "2c42f0b2-7c76-4c36-a6f3-c4bc32deba9a",
   "metadata": {
    "deletable": false
   },
   "outputs": [],
   "source": [
    "df['int_enccpol1_grp'] = pd.cut(\n",
    "    df['int_enccpol1'],\n",
    "    bins=[...],\n",
    "    labels=['geringes Interesse', 'mittleres Interesse', 'großes Interesse', 'weiß nicht'],\n",
    "    include_lowest=True, right=False\n",
    ")"
   ]
  },
  {
   "cell_type": "code",
   "execution_count": null,
   "id": "93e3a795-fc3d-4415-8e70-08febcacb85e",
   "metadata": {
    "deletable": false
   },
   "outputs": [],
   "source": [
    "df['int_ccresearch1_grp'] = pd.cut(\n",
    "    df['int_ccresearch1'],\n",
    "    bins=[...],\n",
    "    labels=['geringes Interesse', 'mittleres Interesse', 'großes Interesse', 'weiß nicht'],\n",
    "    include_lowest=True, right=False\n",
    ")"
   ]
  },
  {
   "cell_type": "code",
   "execution_count": null,
   "id": "c266599d-0f3c-42d6-a73d-9e3e3ca20c50",
   "metadata": {
    "deletable": false
   },
   "outputs": [],
   "source": [
    "df['int_techdevre1_grp'] = pd.cut(\n",
    "    df['int_techdevre1'],\n",
    "    bins=[...],\n",
    "    labels=['geringes Interesse', 'mittleres Interesse', 'großes Interesse', 'weiß nicht'],\n",
    "    include_lowest=True, right=False\n",
    ")"
   ]
  },
  {
   "cell_type": "code",
   "execution_count": null,
   "id": "e295935f-6062-4a53-9a1a-0cbe0471a513",
   "metadata": {
    "deletable": false
   },
   "outputs": [],
   "source": [
    "df['int_techdevhyd1_grp'] = pd.cut(\n",
    "    df['int_techdevhyd1'],\n",
    "    bins=[...],\n",
    "    labels=['geringes Interesse', 'mittleres Interesse', 'großes Interesse', 'weiß nicht'],\n",
    "    include_lowest=True, right=False\n",
    ")"
   ]
  },
  {
   "cell_type": "code",
   "execution_count": null,
   "id": "e93a7b54-e3ff-4162-bd09-d7040ac9ef6a",
   "metadata": {
    "deletable": false,
    "editable": false
   },
   "outputs": [],
   "source": [
    "df"
   ]
  },
  {
   "cell_type": "code",
   "execution_count": null,
   "id": "9fee9e5b-922f-4e8c-b576-9b846ae0b0c4",
   "metadata": {
    "deletable": false,
    "editable": false
   },
   "outputs": [],
   "source": [
    "aufgabe3_5(df)"
   ]
  },
  {
   "cell_type": "markdown",
   "id": "5c860f9a-68be-485a-8fa3-cd2e755309aa",
   "metadata": {
    "deletable": false,
    "editable": false
   },
   "source": [
    "## Aufgabe 4: Datenfehler suchen und erkennen"
   ]
  },
  {
   "cell_type": "markdown",
   "id": "1b9ebf70-93af-4f82-99a2-2e9bd44f0ff6",
   "metadata": {
    "deletable": false,
    "editable": false
   },
   "source": [
    "### Fehlende Werte\n",
    "Suchen Sie nach Spalten und Zeilen, die ausschließlich fehlende Werte (`NaN`) enthalten. Entfernen Sie die betroffenen Spalten und Zeilen, falls sie existieren."
   ]
  },
  {
   "cell_type": "code",
   "execution_count": null,
   "id": "0d10017e-ef1a-4ad4-a269-956bc8478828",
   "metadata": {
    "deletable": false,
    "editable": false
   },
   "outputs": [],
   "source": [
    "df.columns[df.isna().all()]"
   ]
  },
  {
   "cell_type": "code",
   "execution_count": null,
   "id": "9c3c05d9-ba74-43c7-86c4-57d40819c415",
   "metadata": {
    "deletable": false,
    "editable": false
   },
   "outputs": [],
   "source": [
    "df[df.isna().all(axis=1)]"
   ]
  },
  {
   "cell_type": "code",
   "execution_count": null,
   "id": "666e29cc-c81f-4714-92ee-d3158f516f94",
   "metadata": {
    "deletable": false,
    "editable": false
   },
   "outputs": [],
   "source": [
    "aufgabe4_1(df)"
   ]
  },
  {
   "cell_type": "markdown",
   "id": "c3326c85-a275-40c5-8b49-fc94da8524a3",
   "metadata": {
    "deletable": false,
    "editable": false
   },
   "source": [
    "### Geringe Bearbeitungsdauer\n",
    "Die Spalte `duration1` enthält die Bearbeitungszeit der Befragung. Steht dort $-1$ oder `NaN`, dann wurde das Ausfüllen zwischenzeitlich pausiert oder der Browser geschlossen und wieder geöffnet. Im Folgenden gehen wir davon aus, dass eine Bearbeitungszeit unter sechs Minuten nicht möglich ist und die Person demnach die Fragen nicht gewissenhaft beantwortet hat.\n",
    "\n",
    "Entfernen Sie daher alle Zeilen mit eine Bearbeitungsdauer, die weniger als $360$ beträgt und weder $-1$ noch `NaN` ist."
   ]
  },
  {
   "cell_type": "code",
   "execution_count": null,
   "id": "e365f0e6-a06e-4476-ba8b-e5e69ba8b110",
   "metadata": {
    "deletable": false
   },
   "outputs": [],
   "source": [
    "df = df[df['duration1'].notna() & (df['duration1'] >= ...)]\n",
    "df"
   ]
  },
  {
   "cell_type": "code",
   "execution_count": null,
   "id": "df800e68-eb34-4270-a3ca-ace9d4f56f83",
   "metadata": {
    "deletable": false,
    "editable": false
   },
   "outputs": [],
   "source": [
    "aufgabe4_2(df)"
   ]
  },
  {
   "cell_type": "markdown",
   "id": "09d7609c-5f1d-45f1-9e50-529d6f9ddb4f",
   "metadata": {
    "deletable": false,
    "editable": false
   },
   "source": [
    "### weiß nicht\n",
    "In den Spalten `int_pol1_grp`, `int_enccpol1_grp`, `int_ccresearch1_grp`, `int_techdevre1_grp` und `int_techdevhyd1_grp` wurde einige Male mit *weiß nicht* geantwortet. Entfernen Sie alle Zeilen, in denen mindestens einmal *weiß nicht* gewählt wurde."
   ]
  },
  {
   "cell_type": "code",
   "execution_count": null,
   "id": "3ab50c82-35e6-4e5a-917b-e8793147e6e6",
   "metadata": {
    "deletable": false
   },
   "outputs": [],
   "source": [
    "df = df[df['int_pol1_grp'] != 'weiß nicht']\n",
    "\n",
    "df"
   ]
  },
  {
   "cell_type": "code",
   "execution_count": null,
   "id": "a13051c6-312d-442e-972e-6fc31f59cf76",
   "metadata": {
    "deletable": false,
    "editable": false
   },
   "outputs": [],
   "source": [
    "aufgabe4_3(df)"
   ]
  },
  {
   "cell_type": "markdown",
   "id": "33b05590-ddc9-45d4-a5b1-e955a8d31b04",
   "metadata": {
    "deletable": false,
    "editable": false
   },
   "source": [
    "## Aufgabe 5: Visuelle Zusammenhangsanalyse"
   ]
  },
  {
   "cell_type": "markdown",
   "id": "6848d2c7-629c-4e89-a9b8-876e2a8ef8e6",
   "metadata": {
    "deletable": false,
    "editable": false
   },
   "source": [
    "# TODO Sortierung"
   ]
  },
  {
   "cell_type": "code",
   "execution_count": null,
   "id": "e76d12f7-d923-4713-b04a-42e595ec94d7",
   "metadata": {
    "deletable": false,
    "editable": false
   },
   "outputs": [],
   "source": [
    "px.scatter_matrix(df[['duration1', 'sex1', 'region1', 'age1_grp', 'edu1_grp', 'int_pol1_grp', 'int_enccpol1_grp', 'int_ccresearch1_grp', 'int_techdevre1_grp', 'int_techdevhyd1_grp']])"
   ]
  }
 ],
 "metadata": {
  "kernelspec": {
   "display_name": "Python 3 (ipykernel)",
   "language": "python",
   "name": "python3"
  },
  "language_info": {
   "codemirror_mode": {
    "name": "ipython",
    "version": 3
   },
   "file_extension": ".py",
   "mimetype": "text/x-python",
   "name": "python",
   "nbconvert_exporter": "python",
   "pygments_lexer": "ipython3",
   "version": "3.12.11"
  }
 },
 "nbformat": 4,
 "nbformat_minor": 5
}

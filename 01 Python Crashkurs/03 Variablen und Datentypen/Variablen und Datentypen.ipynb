{
 "cells": [
  {
   "cell_type": "markdown",
   "id": "9148d708-23a6-48b8-b318-082d0d04cf17",
   "metadata": {
    "deletable": false,
    "editable": false
   },
   "source": [
    "# Variablen und Datentypen\n",
    "Variablen sind veränderbare Platzhalter, in denen Werte zwischengespeichert werden können. Sie stellen damit eines der Grundgerüste imperativer Programmiersprachen wie Python dar. Datentypen bestimmen indes, welchem Definitionsbereich eine Variable entstammt, und damit auch, welche Operationen möglich sind."
   ]
  },
  {
   "cell_type": "markdown",
   "id": "20f5dd2d",
   "metadata": {
    "deletable": false,
    "editable": false
   },
   "source": [
    "## Inhaltsverzeichnis\n",
    "- [Variablenzuweisungen](#Variablenzuweisungen)\n",
    "- [Bool und NoneType](#Bool-und-NoneType)\n",
    "- [Zahlen](#Zahlen)\n",
    "- [Sequenzen](#Sequenzen)\n",
    "  - [Listen](#Listen)\n",
    "  - [Zeichenketten](#Zeichenketten)\n",
    "- [Mengen](#Mengen)\n",
    "- [Abbildungen](#Abbildungen)\n",
    "- [Typumwandlung](#Typumwandlung)\n",
    "- [Hinweise zur Bezeichnerwahl](#Hinweise-zur-Bezeichnerwahl)"
   ]
  },
  {
   "cell_type": "markdown",
   "id": "80027517-3f36-4f4d-86fe-56d899325340",
   "metadata": {
    "deletable": false,
    "editable": false
   },
   "source": [
    "## Variablenzuweisungen\n",
    "Zuweisungen sind einfache Anweisungen der Form `Variablenname = Wert`. Der Variablenname besteht aus einer Kombination von Buchstaben, Zahlen und Unterstrichen beliebiger Länge, darf jedoch nicht mit einer Ziffer beginnen oder einem reservierten Schlüsselwort wie bspw. `in` gleichen."
   ]
  },
  {
   "cell_type": "code",
   "execution_count": null,
   "id": "768bff13-ffcd-48bd-b907-f91972c33700",
   "metadata": {
    "deletable": false
   },
   "outputs": [],
   "source": [
    "v = 1\n",
    "v"
   ]
  },
  {
   "cell_type": "markdown",
   "id": "7c8ff9f0-303e-4ccf-8bbf-59638c9a7049",
   "metadata": {
    "deletable": false,
    "editable": false
   },
   "source": [
    "Variablen besitzen in Python keinen festen Typ. Stattdessen wird der Typ aus dem Inhalt abgeleitet."
   ]
  },
  {
   "cell_type": "code",
   "execution_count": null,
   "id": "b645fb12-dc50-4754-b094-ae28c3b71b73",
   "metadata": {
    "deletable": false
   },
   "outputs": [],
   "source": [
    "v = 1\n",
    "type(v)"
   ]
  },
  {
   "cell_type": "markdown",
   "id": "59f34323-e934-4309-b7ce-f8a4280a3acc",
   "metadata": {
    "deletable": false,
    "editable": false
   },
   "source": [
    "Der Typ einer Variable kann sich auch im Verlauf eines Programms wandeln."
   ]
  },
  {
   "cell_type": "code",
   "execution_count": null,
   "id": "72b2c70a-bb52-42c4-95e2-29297d382339",
   "metadata": {
    "deletable": false
   },
   "outputs": [],
   "source": [
    "v = 1\n",
    "print(type(v))\n",
    "v = 'text'\n",
    "print(type(v))"
   ]
  },
  {
   "cell_type": "markdown",
   "id": "d56487d6",
   "metadata": {
    "deletable": false,
    "editable": false
   },
   "source": [
    "Sogar Mehrfachzuweisungen sind in Python möglich."
   ]
  },
  {
   "cell_type": "code",
   "execution_count": null,
   "id": "f5689733",
   "metadata": {
    "deletable": false
   },
   "outputs": [],
   "source": [
    "v1, v2 = 5, 7\n",
    "v1, v2"
   ]
  },
  {
   "cell_type": "markdown",
   "id": "e790b417-685a-4ba2-8939-f795fca2d434",
   "metadata": {
    "deletable": false,
    "editable": false
   },
   "source": [
    "## Bool und NoneType\n",
    "`bool` stellt einfache Wahrheitswerte dar und kennt genau zwei Literale: `True` und `False`."
   ]
  },
  {
   "cell_type": "code",
   "execution_count": null,
   "id": "11251f81-0144-4186-937a-a9d4567652ef",
   "metadata": {
    "deletable": false
   },
   "outputs": [],
   "source": [
    "v_bool = True\n",
    "type(v_bool)"
   ]
  },
  {
   "cell_type": "markdown",
   "id": "9cd0c142-78c2-44f6-8339-fb0bed58c06e",
   "metadata": {
    "deletable": false,
    "editable": false
   },
   "source": [
    "`None` stellt ein Nullelement dar, welches keinen Wert repräsentiert und keinerlei Funktionen unterstützt."
   ]
  },
  {
   "cell_type": "code",
   "execution_count": null,
   "id": "deb88a01-80b5-4a51-888e-0ce1f234daa9",
   "metadata": {
    "deletable": false
   },
   "outputs": [],
   "source": [
    "v_none = None\n",
    "type(v_none)"
   ]
  },
  {
   "cell_type": "markdown",
   "id": "cb4e1654-0456-41f0-8390-679b44704509",
   "metadata": {
    "deletable": false,
    "editable": false
   },
   "source": [
    "## Zahlen\n",
    "Python unterstützt ganze Zahlen (`int`), gebrochene Zahlen (`float`) und komplexe Zahlen (`complex`)."
   ]
  },
  {
   "cell_type": "code",
   "execution_count": null,
   "id": "385b9801",
   "metadata": {
    "deletable": false
   },
   "outputs": [],
   "source": [
    "# int in verschiedenen Schreibweisen\n",
    "19, 0o23, 0x13, 0b10011, type(19)"
   ]
  },
  {
   "cell_type": "code",
   "execution_count": null,
   "id": "c86b8a99-f83b-4f2c-a4b9-30e69690c2f0",
   "metadata": {
    "deletable": false
   },
   "outputs": [],
   "source": [
    "# float in verschiedenen Schreibweisen\n",
    "0.005, 5.0e-3, 1.0/200, type(0.005)"
   ]
  },
  {
   "cell_type": "code",
   "execution_count": null,
   "id": "1a1448a6-a115-4483-bd34-c40ccdd30623",
   "metadata": {
    "deletable": false
   },
   "outputs": [],
   "source": [
    "# complex - `j` bezeichnet den komplexen Anteil\n",
    "5+19j, type(5+19j)"
   ]
  },
  {
   "cell_type": "code",
   "execution_count": null,
   "id": "0fc463f4",
   "metadata": {
    "deletable": false
   },
   "outputs": [],
   "source": [
    "# Ein unäres Minus kann als Vorzeichen verwendet werden.\n",
    "-19"
   ]
  },
  {
   "cell_type": "markdown",
   "id": "245ffa57",
   "metadata": {
    "deletable": false,
    "editable": false
   },
   "source": [
    "Python unterstützt diverse Grundoperationen, die alle Zahlentypen gemeinsam haben:"
   ]
  },
  {
   "cell_type": "code",
   "execution_count": null,
   "id": "36b2fd7c-21b2-4cd1-94fc-b79f355a3af3",
   "metadata": {
    "deletable": false
   },
   "outputs": [],
   "source": [
    "# Addition `+`\n",
    "1 + 1"
   ]
  },
  {
   "cell_type": "code",
   "execution_count": null,
   "id": "e0ff3266-a423-4b52-a120-f20e6370917a",
   "metadata": {
    "deletable": false
   },
   "outputs": [],
   "source": [
    "# Subtraktion `-`\n",
    "2 - 1"
   ]
  },
  {
   "cell_type": "code",
   "execution_count": null,
   "id": "c8e055a5-f1e2-4d6f-97ee-f5c135a860cf",
   "metadata": {
    "deletable": false
   },
   "outputs": [],
   "source": [
    "# Multiplikation `*`\n",
    "2 * 2.56"
   ]
  },
  {
   "cell_type": "code",
   "execution_count": null,
   "id": "0c6173e0",
   "metadata": {
    "deletable": false
   },
   "outputs": [],
   "source": [
    "# Division `/`\n",
    "3 / 2"
   ]
  },
  {
   "cell_type": "code",
   "execution_count": null,
   "id": "8d5c76d2",
   "metadata": {
    "deletable": false
   },
   "outputs": [],
   "source": [
    "# Ganzzahlige Division `//`\n",
    "3 // 2"
   ]
  },
  {
   "cell_type": "code",
   "execution_count": null,
   "id": "39f22918",
   "metadata": {
    "deletable": false
   },
   "outputs": [],
   "source": [
    "# Modulo (Rest) `%`\n",
    "5 % 3"
   ]
  },
  {
   "cell_type": "code",
   "execution_count": null,
   "id": "1b64568f",
   "metadata": {
    "deletable": false
   },
   "outputs": [],
   "source": [
    "# Potenz `**`\n",
    "2 ** 4"
   ]
  },
  {
   "cell_type": "markdown",
   "id": "a97a1ea9",
   "metadata": {
    "deletable": false,
    "editable": false
   },
   "source": [
    "## Sequenzen\n",
    "- Sequenzen bestehen aus einzelnen Elementen, die selbst verschiedene Datentypen besitzen können.\n",
    "- Sequenzen sind iterierbar, die Elemente lassen sich also einzeln und der Reihe nach abrufen.\n",
    "- Sequenzen sind geordnet und daher ebenfalls durch einen Index abrufbar.\n",
    "\n",
    "Sequenzen teilen sich in veränderliche *(mutable)* und unveränderliche *(immutable)* Objekte. Modifiziert man den Inhalt einer unveränderlichen Variable, so wird ein neuer Speicherbereich mit dem neuen Inhalt belegt. Modifiziert man den Inhalt einer veränderlichen Variablen, überschreibt man den dazugehörigen Speicherbereich.\n",
    "\n",
    "Alle Sequenzen haben einige Grundoperationen gemeinsam:\n",
    "\n",
    "| Operation    | Ergebnis                                                                                    |\n",
    "| ------------ | ------------------------------------------------------------------------------------------- |\n",
    "| `x in s`     | Wahrheitswert, ob `x` in `s` enthalten ist                                                  |\n",
    "| `x not in s` | Wahrheitswert, ob `x` nicht in `s` enthalten ist                                            |\n",
    "| `s + t`      | Konkatenation der beiden Sequenzen `s` und `t`                                              |\n",
    "| `s * n`      | `n` Kopien der Sequenz `s` werden aneinander gehängt                                        |\n",
    "| `s[i]`       | Zugriff auf das `i`-te Element von `s`                                                      |\n",
    "| `s[i:j]`     | Zugriff auf den Ausschnitt *(slice)* vom `i`-ten zum `j`-ten Element (nicht einschließlich) |\n",
    "| `len(s)`     | Länge der Sequenz `s`                                                                       |\n",
    "| `min(s)`     | kleinstes Element der Sequenz `s`                                                           |\n",
    "| `max(s)`     | größtes Element der Sequenz `s`                                                             |"
   ]
  },
  {
   "cell_type": "markdown",
   "id": "a3e10e30",
   "metadata": {
    "deletable": false,
    "editable": false
   },
   "source": [
    "### Listen\n",
    "| Operation        | Ergebnis                                              |\n",
    "| ---------------- | ----------------------------------------------------- |\n",
    "| `s.append(x)`    | anhängen des Elements `x`                             |\n",
    "| `s.extend(t)`    | anhängen der Elemente der Sequenz `t`                 |\n",
    "| `s.count(x)`     | Anzahl der Elemente mit dem Wert `x`                  |\n",
    "| `del s[i]`       | lösche das Element an Position `i`                    |\n",
    "| `s.index(x)`     | kleinster Index von allen Elementen, die `x` gleichen |\n",
    "| `s.insert(i, x)` | füge `x` an Position `i` ein                          |\n",
    "| `s.pop()`        | entferne letztes Element                              |\n",
    "| `s.remove(x)`    | entferne erstes Element, das `x` gleicht              |\n",
    "| `s.sort()`       | aufsteigend sortieren                                 |"
   ]
  },
  {
   "cell_type": "code",
   "execution_count": null,
   "id": "748c181b",
   "metadata": {
    "deletable": false
   },
   "outputs": [],
   "source": [
    "v_list = [1, 2, 3]\n",
    "v_list, type(v_list)"
   ]
  },
  {
   "cell_type": "markdown",
   "id": "430bfa33",
   "metadata": {
    "deletable": false,
    "editable": false
   },
   "source": [
    "### Zeichenketten\n",
    "Zeichenketten sind eine Abfolge von einzelnen Zeichen und können daher ebenfalls wie eine Sequenz verwendet werden."
   ]
  },
  {
   "cell_type": "code",
   "execution_count": null,
   "id": "73a03e97",
   "metadata": {
    "deletable": false
   },
   "outputs": [],
   "source": [
    "v_str = 'TU Ilmenau'\n",
    "v_str, type(v_str)"
   ]
  },
  {
   "cell_type": "markdown",
   "id": "fd72f0a4",
   "metadata": {
    "deletable": false,
    "editable": false
   },
   "source": [
    "## Mengen\n",
    "Mengen bestehen aus einzigartigen Elementen. In Python stehen zudem einige Mengenoperationen bereit:\n",
    "\n",
    "| Operation                     | Kurzform   | Bedeutung                                        |\n",
    "| ----------------------------- | ---------- | ------------------------------------------------ |\n",
    "| `s1.union(s2)`                | `s1 \\| s2` | alle Elemente von `s1` und `s2`                  |\n",
    "| `s1.intersection(s2)`         | `s1 & s2`  | gemeinsame Elemente von `s1` und `s2`            |\n",
    "| `s1.difference(s2)`           | `s1 - s2`  | Elemente von `s1`, die nicht in `s2` sind        |\n",
    "| `s1.symmetric_difference(s2)` | `s1 ^ s2`  | Elemente in `s1` oder `s2`, aber nicht in beiden |\n",
    "| `s1.issubset(s2)`             | `s1 <= s2` | `True`, falls $s1 \\subseteq s2$                  |\n",
    "| `s1.isupperset(s2)`           | `s1 >= s2` | `True`, falls $s1 \\supseteq s2$                  |\n",
    "| `s.copy()`                    |            | flache Kopie von `s`                             |\n",
    "| `x in s`                      |            | `True`, falls $x \\in s$                          |\n",
    "| `x not in s`                  |            | `True`, falls $x \\not\\in s$                      |"
   ]
  },
  {
   "cell_type": "code",
   "execution_count": null,
   "id": "9e7e2231",
   "metadata": {
    "deletable": false
   },
   "outputs": [],
   "source": [
    "v_set = {1, 3, 2, 4}\n",
    "v_set, type(v_set)"
   ]
  },
  {
   "cell_type": "markdown",
   "id": "fa65175f",
   "metadata": {
    "deletable": false,
    "editable": false
   },
   "source": [
    "## Abbildungen\n",
    "Abbildungen bestehen aus **Schlüssel-Wert-Paaren**. Sie sind iterierbar, aber [je nach Python Version](https://docs.python.org/3.6/whatsnew/3.6.html#new-dict-implementation) ungeordnet.\n",
    "\n",
    "Grundoperationen:\n",
    "\n",
    "| Operation       | Ergebnis                                                  |\n",
    "| --------------- | --------------------------------------------------------- |\n",
    "| `d[k]`          | Wert mit dem Schlüssel `k`                                |\n",
    "| `k in d`        | `True`, falls $k \\in d$                                   |\n",
    "| `k not in d`    | `True`, falls $k \\not\\in d$                               |\n",
    "| `d.clear()`     | alle Elemente werden aus `d` entfernt                     |\n",
    "| `d.copy()`      | flache Kopie von `d`                                      |\n",
    "| `del d[k]`      | Element mit Schlüssel `k` wird gelöscht                   |\n",
    "| `d.get(k, x)`   | zurückgegeben wird `d[k]`, falls $k \\in d$, sonst `x`     |\n",
    "| `d.keys()`      | ein Objekt, das eine Liste aller Schlüssel in `d` enthält |\n",
    "| `d.values()`    | ein Objekt, das eine Liste aller Werte in `d` enthält     |\n",
    "| `d1.update(d2)` | kopiere alle Werte aus `d2` nach `d1`                     |"
   ]
  },
  {
   "cell_type": "code",
   "execution_count": null,
   "id": "c94b4d5f",
   "metadata": {
    "deletable": false
   },
   "outputs": [],
   "source": [
    "v_dict = {'a': 1, 'b': 2}\n",
    "v_dict, type(v_dict)"
   ]
  },
  {
   "cell_type": "markdown",
   "id": "482229c8",
   "metadata": {
    "deletable": false,
    "editable": false
   },
   "source": [
    "## Typumwandlung\n",
    "Variablen in einen anderen Datentyp umzuwandeln ist notwendig, wenn Sie Operationen verwenden wollen, die mit dem aktuellen Datentyp nicht kompatibel sind. Häufig kommt dies beispielsweise vor, wenn Sie eine Zeichenkette vom Benutzer abfragen, darin aber eine Zahl erwarten und mit dieser rechnen möchten.\n",
    "\n",
    "Für die grundlegenden Datentypen steht jeweils eine Funktion bereit, die einen Parameter in diese umwandelt."
   ]
  },
  {
   "cell_type": "code",
   "execution_count": null,
   "id": "c1e90f50-3d5e-4f7b-882a-ea25d4f88aa3",
   "metadata": {
    "deletable": false
   },
   "outputs": [],
   "source": [
    "v_str = '1'\n",
    "v_float = 1.5\n",
    "\n",
    "int(v_str), float(v_str), bool(v_str), str(v_float)"
   ]
  },
  {
   "cell_type": "markdown",
   "id": "cc7ce67d",
   "metadata": {
    "deletable": false,
    "editable": false
   },
   "source": [
    "## Hinweise zur Bezeichnerwahl\n",
    "Wie Kommentare tragen auch die Bezeichner zu einem besser lesbaren Programm bei. Wählen Sie Namen, die etwas über den Inhalt und die Verwendung der Variable aussagen. Einstellige Namen dagegen sollten Sie nur in kurzen Blöcken verwenden. Die Python Entwickler [empfehlen übrigens](https://peps.python.org/pep-0008/#function-and-variable-names) ausschließlich die Verwendung von Kleinbuchstaben und Unterstrichen."
   ]
  }
 ],
 "metadata": {
  "kernelspec": {
   "display_name": "Python 3 (ipykernel)",
   "language": "python",
   "name": "python3"
  },
  "language_info": {
   "codemirror_mode": {
    "name": "ipython",
    "version": 3
   },
   "file_extension": ".py",
   "mimetype": "text/x-python",
   "name": "python",
   "nbconvert_exporter": "python",
   "pygments_lexer": "ipython3",
   "version": "3.12.11"
  }
 },
 "nbformat": 4,
 "nbformat_minor": 5
}

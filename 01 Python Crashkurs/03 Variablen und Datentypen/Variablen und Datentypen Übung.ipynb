{
 "cells": [
  {
   "cell_type": "markdown",
   "id": "97fc19b8",
   "metadata": {
    "deletable": false,
    "editable": false
   },
   "source": [
    "# Variablen und Datentypen - Übung\n",
    "Importieren Sie vor der Arbeit an den Aufgaben zunächst die Tests für dieses Aufgabenblatt."
   ]
  },
  {
   "cell_type": "code",
   "execution_count": null,
   "id": "b76b1880",
   "metadata": {
    "deletable": false,
    "editable": false
   },
   "outputs": [],
   "source": [
    "from tui_rvds.python.vad import *"
   ]
  },
  {
   "cell_type": "markdown",
   "id": "d25b3ce3",
   "metadata": {
    "deletable": false,
    "editable": false
   },
   "source": [
    "## Aufgabe 1\n",
    "Eine ISBN (International Standard Book Number) besteht aus zehn Ziffern $z_1, \\dots z_{10}$. Die letzte Ziffer $z_{10}$ ist eine Prüfziffer, die sich wie folgt berechnet.\n",
    "\n",
    "Zunächst wird $s$ nach folgender Formel bestimmt:\n",
    "$$\n",
    "s = 1*z_1 + 2*z_2 + 3*z_3 + 4*z_4 + 5*z_5 + 6*z_6 + 7*z_7 + 8*z_8 + 9*z_9\n",
    "$$\n",
    "\n",
    "Die Prüfziffer $z_{10}$ ist nun der Rest der ganzzahligen Division durch $11$. Dieser Wert liegt zwischen $0$ und $10$. (Da sich $10$ nicht als einzelne Ziffer darstellen lässt, wird die Prüfziffer in diesem Fall mit $X$ ersetzt. Diesen Schritt muss Ihr Programm (noch) nicht leisten.)"
   ]
  },
  {
   "cell_type": "code",
   "execution_count": null,
   "id": "5a077dc0",
   "metadata": {
    "deletable": false,
    "editable": false
   },
   "outputs": [],
   "source": [
    "z1, z2, z3, z4, z5, z6, z7, z8, z9, z10 = 3, 5, 5, 1, 5, 5, 1, 6, 7, 7"
   ]
  },
  {
   "cell_type": "markdown",
   "id": "9b264e8d",
   "metadata": {
    "deletable": false,
    "editable": false
   },
   "source": [
    "Schreiben Sie ein kurzes Programm, das für eine gegebene ISBN  prüft, ob sie gültig ist."
   ]
  },
  {
   "cell_type": "code",
   "execution_count": null,
   "id": "01583071",
   "metadata": {
    "deletable": false,
    "tags": [
     "task-1"
    ]
   },
   "outputs": [],
   "source": [
    "s = ...\n",
    "s"
   ]
  },
  {
   "cell_type": "code",
   "execution_count": null,
   "id": "8bdaad24",
   "metadata": {
    "deletable": false,
    "editable": false
   },
   "outputs": [],
   "source": [
    "aufgabe1_1(s)"
   ]
  },
  {
   "cell_type": "code",
   "execution_count": null,
   "id": "5b9d3716",
   "metadata": {
    "deletable": false,
    "tags": [
     "task-1"
    ]
   },
   "outputs": [],
   "source": [
    "z10_test = ...\n",
    "z10_test, z10_test == z10"
   ]
  },
  {
   "cell_type": "code",
   "execution_count": null,
   "id": "3f74d88e",
   "metadata": {
    "deletable": false,
    "editable": false
   },
   "outputs": [],
   "source": [
    "aufgabe1_2(z10_test)"
   ]
  }
 ],
 "metadata": {
  "kernelspec": {
   "display_name": "Python 3 (ipykernel)",
   "language": "python",
   "name": "python3"
  },
  "language_info": {
   "codemirror_mode": {
    "name": "ipython",
    "version": 3
   },
   "file_extension": ".py",
   "mimetype": "text/x-python",
   "name": "python",
   "nbconvert_exporter": "python",
   "pygments_lexer": "ipython3",
   "version": "3.12.11"
  }
 },
 "nbformat": 4,
 "nbformat_minor": 5
}

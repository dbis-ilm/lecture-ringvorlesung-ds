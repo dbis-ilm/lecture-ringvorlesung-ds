{
 "cells": [
  {
   "cell_type": "markdown",
   "id": "5862b47f",
   "metadata": {
    "deletable": false,
    "editable": false
   },
   "source": [
    "# Generatoren und Schleifen\n",
    "Sequenzen haben Sie bereits zuvor in Form von Listen und Zeichenketten kennengelernt. Als Schleife ist Ihnen `while` bekannt, das anhand eines Wahrheitswertes Code beliebig oft wiederholt. An dieser Stelle sollen Ihnen zusätzlich Generatoren und die `for` Schleife vorgestellt werden."
   ]
  },
  {
   "cell_type": "markdown",
   "id": "ac9dd192",
   "metadata": {
    "deletable": false,
    "editable": false
   },
   "source": [
    "## Inhaltsverzeichnis\n",
    "- [Generatoren](#Generatoren)\n",
    "- [`for`-Schleifen](#for-Schleifen)\n",
    "- [Comprehensions](#Comprehensions)\n",
    "- [Integrierte Funktionen](#Integrierte-Funktionen)"
   ]
  },
  {
   "cell_type": "markdown",
   "id": "ee1407fb",
   "metadata": {
    "deletable": false,
    "editable": false
   },
   "source": [
    "## Generatoren\n",
    "Generatoren ermöglichen es, Funktionen und Objekte zu erstellen, die sich wie Iteratoren verhalten und damit einen Teil der Funktionalität einer Sequenz abbilden. Sie entstehen automatisch bei der Verwendung des Schlüsselwortes `yield` innerhalb von Funktionen."
   ]
  },
  {
   "cell_type": "code",
   "execution_count": null,
   "id": "71f6804f",
   "metadata": {
    "deletable": false
   },
   "outputs": [],
   "source": [
    "def my_generator():\n",
    "    yield 11\n",
    "    yield 12\n",
    "\n",
    "my_generator()"
   ]
  },
  {
   "cell_type": "markdown",
   "id": "f77e2c9f",
   "metadata": {
    "deletable": false,
    "editable": false
   },
   "source": [
    "Mit der Funktion `next` kann jeweils das nächste Element abgerufen werden."
   ]
  },
  {
   "cell_type": "code",
   "execution_count": null,
   "id": "8184813a",
   "metadata": {
    "deletable": false
   },
   "outputs": [],
   "source": [
    "gen = my_generator()\n",
    "next(gen), next(gen)"
   ]
  },
  {
   "cell_type": "markdown",
   "id": "cc45c356",
   "metadata": {
    "deletable": false,
    "editable": false
   },
   "source": [
    "Wird `next` mit einem Generator aufgerufen, der keine weiteren Elemente zurückgibt, wird eine Ausnahme vom Typ `StopIteration` ausgelöst. Generatoren lassen sich nicht zurückspulen und somit nur ein einziges Mal verwenden."
   ]
  },
  {
   "cell_type": "code",
   "execution_count": null,
   "id": "97a9cea5",
   "metadata": {
    "deletable": false,
    "tags": [
     "raises-exception"
    ]
   },
   "outputs": [],
   "source": [
    "next(gen)"
   ]
  },
  {
   "cell_type": "markdown",
   "id": "03037a29",
   "metadata": {
    "deletable": false,
    "editable": false
   },
   "source": [
    "Werden mehrere Generatorobjekte aus einer Funktion erzeugt, sind diese unabhängig voneinander."
   ]
  },
  {
   "cell_type": "code",
   "execution_count": null,
   "id": "5fd9f840",
   "metadata": {
    "deletable": false
   },
   "outputs": [],
   "source": [
    "gen1 = my_generator()\n",
    "gen2 = my_generator()\n",
    "\n",
    "next(gen1), next(gen2)"
   ]
  },
  {
   "cell_type": "markdown",
   "id": "e377a2cf",
   "metadata": {
    "deletable": false,
    "editable": false
   },
   "source": [
    "Generatoren speichern nicht alle Werte zur gleichen Zeit. Die Funktion wird mit jeder Verwendung von `yield` pausiert und beim nächsten Aufruf von `next` an dieser Stelle fortgesetzt. Sie können das Ergebnis natürlich trotzdem sammeln und in einer Liste ablegen."
   ]
  },
  {
   "cell_type": "code",
   "execution_count": null,
   "id": "63011fbd",
   "metadata": {
    "deletable": false
   },
   "outputs": [],
   "source": [
    "list(my_generator())"
   ]
  },
  {
   "cell_type": "markdown",
   "id": "82cd567a",
   "metadata": {
    "deletable": false,
    "editable": false
   },
   "source": [
    "## `for`-Schleifen\n",
    "`for`-Schleifen gelten im Allgemeinen als Zählschleifen. Während das Konstrukt in anderen Programmiersprachen primär genutzt wird, um nach einem Schleifendurchlauf Werte zu beeinflussen, dienen sie in Python ausschließlich dazu, iterierbare Typen *aufzuzählen*. Erwartete Ausnahmen vom Typ `StopIteration` werden automatisch abgefangen."
   ]
  },
  {
   "cell_type": "code",
   "execution_count": null,
   "id": "1ba271e3",
   "metadata": {
    "deletable": false
   },
   "outputs": [],
   "source": [
    "for value in my_generator():\n",
    "    print(value)"
   ]
  },
  {
   "cell_type": "markdown",
   "id": "68cdf773",
   "metadata": {
    "deletable": false,
    "editable": false
   },
   "source": [
    "Um tatsächlich zu zählen existieren in Python integrierte Generatoren wie beispielsweise `range`."
   ]
  },
  {
   "cell_type": "code",
   "execution_count": null,
   "id": "693153f0",
   "metadata": {
    "deletable": false
   },
   "outputs": [],
   "source": [
    "for value in range(5):\n",
    "    print(value)"
   ]
  },
  {
   "cell_type": "markdown",
   "id": "6e96fd7a",
   "metadata": {
    "deletable": false,
    "editable": false
   },
   "source": [
    "Auch innerhalb einer `for`-Schleife können `continue` und `break` verwendet werden. Ein nachfolgendes `else` wird genau dann ausgeführt, wenn kein `break` verwendet wurde."
   ]
  },
  {
   "cell_type": "code",
   "execution_count": null,
   "id": "9fe27ce5",
   "metadata": {
    "deletable": false
   },
   "outputs": [],
   "source": [
    "for value in my_generator():\n",
    "    break\n",
    "else:\n",
    "    print('else')"
   ]
  },
  {
   "cell_type": "code",
   "execution_count": null,
   "id": "fda1a858",
   "metadata": {
    "deletable": false
   },
   "outputs": [],
   "source": [
    "for value in my_generator():\n",
    "    pass\n",
    "else:\n",
    "    print('else')"
   ]
  },
  {
   "cell_type": "markdown",
   "id": "629e1507",
   "metadata": {
    "deletable": false,
    "editable": false
   },
   "source": [
    "## Comprehensions\n",
    "Comprehensions sind Beschreibungen, wie Listen, Dictionaries und Generatoren auf Basis anderer iterierbarer Objekte gefüllt werden. Sie werden häufig verwendet, um Operationen, die eigentlich eine Schleife benötigen, innerhalb einer Zeile abbilden zu können."
   ]
  },
  {
   "cell_type": "code",
   "execution_count": null,
   "id": "939cc77e",
   "metadata": {
    "deletable": false
   },
   "outputs": [],
   "source": [
    "# Liste gerader Zahlen\n",
    "[i*2 for i in range(5)]"
   ]
  },
  {
   "cell_type": "code",
   "execution_count": null,
   "id": "653ee9f4",
   "metadata": {
    "deletable": false
   },
   "outputs": [],
   "source": [
    "# Dictionary gerader Zahlen\n",
    "{i: i*2 for i in range(5)}"
   ]
  },
  {
   "cell_type": "code",
   "execution_count": null,
   "id": "c55df13e",
   "metadata": {
    "deletable": false
   },
   "outputs": [],
   "source": [
    "# Generator gerader Zahlen\n",
    "(i*2 for i in range(5))"
   ]
  },
  {
   "cell_type": "markdown",
   "id": "227a8ae7",
   "metadata": {
    "deletable": false,
    "editable": false
   },
   "source": [
    "Comprehensions können an manchen Stellen schneller als semantisch äquivalente Alternativen sein. Betrachten Sie dazu den Zeitaufwand des folgenden Beispiels."
   ]
  },
  {
   "cell_type": "code",
   "execution_count": null,
   "id": "f2281ba5",
   "metadata": {
    "deletable": false
   },
   "outputs": [],
   "source": [
    "%%time\n",
    "\n",
    "my_list = []\n",
    "for i in range(20_000_000):\n",
    "    my_list.append(i*2)"
   ]
  },
  {
   "cell_type": "code",
   "execution_count": null,
   "id": "b52e45ef",
   "metadata": {
    "deletable": false
   },
   "outputs": [],
   "source": [
    "%%time\n",
    "\n",
    "my_list = [i*2 for i in range(20_000_000)]"
   ]
  },
  {
   "cell_type": "markdown",
   "id": "c8cf8921",
   "metadata": {
    "deletable": false,
    "editable": false
   },
   "source": [
    "Comprehensions können auch ineinander geschachtelt werden. Sie sollten sich dann aber immer fragen, ob die Optimierung an dieser Stelle die schlechtere Lesbarkeit aufwiegt. Die folgende Zelle wandelt eine Liste von Tupeln in aller Kürze in eine flache Liste um. Auf einen Blick erkennbar ist dies jedoch für die wenigsten Programmierer."
   ]
  },
  {
   "cell_type": "code",
   "execution_count": null,
   "id": "9eeaceb2",
   "metadata": {
    "deletable": false
   },
   "outputs": [],
   "source": [
    "tuple_list = [(1, 2), (3, 4), (5, 6), (7, 8), (9, 0)]\n",
    "\n",
    "[elem for tup in tuple_list for elem in tup]"
   ]
  },
  {
   "cell_type": "markdown",
   "id": "a0d6d80a",
   "metadata": {
    "deletable": false,
    "editable": false
   },
   "source": [
    "## Integrierte Funktionen\n",
    "Sie haben bereits `range` kennengelernt. In seiner einfachsten Form akzeptiert `range` einen Parameter, der einen Endwert angibt, während das Zählen bei $0$ startet. Alternativ können Sie bis zu drei Parameter übergeben - dann wird der erste als Startwert, der zweite als Endwert und der dritte als Schrittweite interpretiert."
   ]
  },
  {
   "cell_type": "code",
   "execution_count": null,
   "id": "6d253e0a",
   "metadata": {
    "deletable": false
   },
   "outputs": [],
   "source": [
    "list(range(2, 5))"
   ]
  },
  {
   "cell_type": "code",
   "execution_count": null,
   "id": "dc668726",
   "metadata": {
    "deletable": false
   },
   "outputs": [],
   "source": [
    "list(range(1, 10, 2))"
   ]
  },
  {
   "cell_type": "markdown",
   "id": "24aa8741",
   "metadata": {
    "deletable": false,
    "editable": false
   },
   "source": [
    "Die Verwendung einer negativen Schrittweite führt zum absteigenden Aufzählen."
   ]
  },
  {
   "cell_type": "code",
   "execution_count": null,
   "id": "c9120ef5",
   "metadata": {
    "deletable": false
   },
   "outputs": [],
   "source": [
    "list(range(10, 1, -2))"
   ]
  },
  {
   "cell_type": "markdown",
   "id": "4ed43b84",
   "metadata": {
    "deletable": false,
    "editable": false
   },
   "source": [
    "`zip` ist eine weitere hilfreiche Funktion. Sie iteriert über mehrere Objekte gleichzeitig und liefert die zusammengesetzten Tupel selbst als Generator zurück. Standardmäßig wird gestoppt, sobald das erste Objekt keine weiteren Elemente liefert. Das Verhalten in diesem Fall kann durch [den Parameter `strict`](https://docs.python.org/3/library/functions.html#zip) angepasst werden."
   ]
  },
  {
   "cell_type": "code",
   "execution_count": null,
   "id": "d224e6e7",
   "metadata": {
    "deletable": false
   },
   "outputs": [],
   "source": [
    "list(zip([1, 3, 5, 7], [2, 4, 6]))"
   ]
  },
  {
   "cell_type": "markdown",
   "id": "d6e2870b",
   "metadata": {
    "deletable": false,
    "editable": false
   },
   "source": [
    "`enumerate` kann zum Nummerieren verwendet werden. Die Ergebnistupel bestehen dann immer aus einer Sequenznummer und einem Objekt des übergeben Iterators. Mit [dem Parameter `start`](https://docs.python.org/3/library/functions.html#enumerate) kann der Startwert verändert werden."
   ]
  },
  {
   "cell_type": "code",
   "execution_count": null,
   "id": "3445e07a",
   "metadata": {
    "deletable": false
   },
   "outputs": [],
   "source": [
    "list(enumerate(['A', 'B', 'C']))"
   ]
  },
  {
   "cell_type": "markdown",
   "id": "27b975cc",
   "metadata": {
    "deletable": false,
    "editable": false
   },
   "source": [
    "Die Schrittweite bei `enumerate` lässt sich nicht beeinflussen. Das [Paket `itertools`](https://docs.python.org/3/library/itertools.html) enthält jedoch einige hilfreiche Funktionen, mit deren Hilfe sich das gewünschte Verhalten nachbilden lässt."
   ]
  },
  {
   "cell_type": "code",
   "execution_count": null,
   "id": "357f0b8c",
   "metadata": {
    "deletable": false
   },
   "outputs": [],
   "source": [
    "from itertools import count\n",
    "list(zip(count(1, 2), ['A', 'B', 'C']))"
   ]
  }
 ],
 "metadata": {
  "kernelspec": {
   "display_name": "Python 3 (ipykernel)",
   "language": "python",
   "name": "python3"
  },
  "language_info": {
   "codemirror_mode": {
    "name": "ipython",
    "version": 3
   },
   "file_extension": ".py",
   "mimetype": "text/x-python",
   "name": "python",
   "nbconvert_exporter": "python",
   "pygments_lexer": "ipython3",
   "version": "3.8.10"
  }
 },
 "nbformat": 4,
 "nbformat_minor": 5
}

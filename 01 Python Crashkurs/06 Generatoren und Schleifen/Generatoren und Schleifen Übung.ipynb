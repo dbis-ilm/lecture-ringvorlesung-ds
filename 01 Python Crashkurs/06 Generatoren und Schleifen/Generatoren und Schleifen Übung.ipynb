{
 "cells": [
  {
   "cell_type": "markdown",
   "id": "8a71c734",
   "metadata": {
    "deletable": false,
    "editable": false
   },
   "source": [
    "# Generatoren und Schleifen\n",
    "Importieren Sie zunächst die Tests für dieses Übungsblatt."
   ]
  },
  {
   "cell_type": "code",
   "execution_count": null,
   "id": "8845e499",
   "metadata": {
    "deletable": false,
    "editable": false
   },
   "outputs": [],
   "source": [
    "from tui_rvds.python.loops import *"
   ]
  },
  {
   "cell_type": "markdown",
   "id": "f43d8490",
   "metadata": {
    "deletable": false,
    "editable": false
   },
   "source": [
    "## Aufgabe 1\n",
    "Definieren Sie einen Generator `even`, der als Parameter eine ganze Zahl erhält und alle geraden Zahlen einschließlich $0$ zurückgibt, die echt kleiner als der übergebene Wert sind."
   ]
  },
  {
   "cell_type": "code",
   "execution_count": null,
   "id": "854c6b73",
   "metadata": {
    "deletable": false,
    "tags": [
     "task-1"
    ]
   },
   "outputs": [],
   "source": [
    "def even(i):\n",
    "    pass"
   ]
  },
  {
   "cell_type": "code",
   "execution_count": null,
   "id": "e150d0a9",
   "metadata": {
    "deletable": false,
    "editable": false
   },
   "outputs": [],
   "source": [
    "aufgabe1(even)"
   ]
  },
  {
   "cell_type": "markdown",
   "id": "5e13954b",
   "metadata": {
    "deletable": false,
    "editable": false
   },
   "source": [
    "## Aufgabe 2\n",
    "Speichern Sie alle Werte des Aufrufs `even(256)` in einer Liste `even_list`."
   ]
  },
  {
   "cell_type": "code",
   "execution_count": null,
   "id": "06324050",
   "metadata": {
    "deletable": false,
    "tags": [
     "task-2"
    ]
   },
   "outputs": [],
   "source": [
    "even_list = []\n",
    "\n",
    "...\n",
    "\n",
    "even_list"
   ]
  },
  {
   "cell_type": "code",
   "execution_count": null,
   "id": "f5ecf925",
   "metadata": {
    "deletable": false,
    "editable": false
   },
   "outputs": [],
   "source": [
    "aufgabe2(even_list)"
   ]
  }
 ],
 "metadata": {
  "kernelspec": {
   "display_name": "Python 3 (ipykernel)",
   "language": "python",
   "name": "python3"
  },
  "language_info": {
   "codemirror_mode": {
    "name": "ipython",
    "version": 3
   },
   "file_extension": ".py",
   "mimetype": "text/x-python",
   "name": "python",
   "nbconvert_exporter": "python",
   "pygments_lexer": "ipython3",
   "version": "3.12.11"
  }
 },
 "nbformat": 4,
 "nbformat_minor": 5
}

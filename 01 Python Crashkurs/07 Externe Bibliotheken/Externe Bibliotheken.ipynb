{
 "cells": [
  {
   "cell_type": "markdown",
   "id": "c581878c",
   "metadata": {
    "deletable": false,
    "editable": false
   },
   "source": [
    "# Externe Bibliotheken\n",
    "<blockquote>Man muss das Rad nicht immer neu erfinden.</blockquote>\n",
    "\n",
    "Im Laufe Ihrer Programmiertätigkeit werden Sie immer wieder an Stellen gelangen, an denen Ihre Programmierkenntnisse (noch) nicht ausreichen, das Band zu hardwarenahen Programmiersprachen gebrochen werden muss oder zumindest die Zeit nicht ausreicht, selbst eine komplexe, wiederverwendbare und abstrakte Implementierung eines Algorithmus zu erstellen. Vielleicht möchten Sie es aber auch einfach vermeiden, Ihr eigene Zeit oder die Ihres Arbeitgebers zu verschwenden.\n",
    "\n",
    "Zu Beginn dieses Kapitels wurde bereits das immense Ökosystem der Python Welt erwähnt, das von Millionen von Menschen täglich genutzt wird. Sofern Sie davon ausgehen, dass Ihr Teilproblem bereits anderen Menschen begegnet ist, lohnt sich ein Blick in den [Python Package Index](https://pypi.org/). Stellen Sie sich beispielsweise vor, Sie möchten ein Foto laden, einen Rahmen entfernen und es anschließend wieder abspeichern. Die [ursprüngliche JPEG Spezifikation von 1992](https://www.w3.org/Graphics/JPEG/itu-t81.pdf) ist jedoch bereits 186 Seiten lang und beinhaltet verschiedene Kompressionsmodi und andere Einstellungen. Glücklicherweise ist das Laden, Zuschneiden und Speichern aber eines der Probleme, die bereits gelöst wurden und sowohl kostenfrei wie einfach verwendbar im Paket [`Pillow`](https://pypi.org/project/Pillow/) implementiert sind.\n",
    "\n",
    "Das Paket können Sie einfach mit dem Paketmanager `pip` installieren. Im Docker-Image zu dieser Veranstaltung ist das Paket bereits in der korrekten Version enthalten.\n",
    "```bash\n",
    "pip install Pillow\n",
    "```\n",
    "\n",
    "Die meisten verbreiteten und gut gepflegten Pakete besitzen [Hilfeseiten](https://pillow.readthedocs.io/en/latest/handbook/index.html), auf denen anschaulich und anhand von Beispielen die Funktionsweise erklärt wird. Laden Sie für unser Beispiel zuerst die Klasse `Image` aus dem Modul `PIL`."
   ]
  },
  {
   "cell_type": "code",
   "execution_count": null,
   "id": "b4f08150",
   "metadata": {
    "deletable": false
   },
   "outputs": [],
   "source": [
    "from PIL import Image"
   ]
  },
  {
   "cell_type": "markdown",
   "id": "78daf397",
   "metadata": {
    "deletable": false,
    "editable": false
   },
   "source": [
    "Das Bild zu laden lässt sich nun in einer Zeile bewerkstelligen. Pillow erkennt dabei sogar automatisch das Format der Datei."
   ]
  },
  {
   "cell_type": "code",
   "execution_count": null,
   "id": "3e4dbd0a",
   "metadata": {
    "deletable": false
   },
   "outputs": [],
   "source": [
    "img = Image.open('pear.jpg')\n",
    "img"
   ]
  },
  {
   "cell_type": "markdown",
   "id": "d43586f4",
   "metadata": {
    "deletable": false,
    "editable": false
   },
   "source": [
    "Die Bibliothek implementiert außerdem einfach zu verwendende Methoden für häufig benötigte Operationen wie beispielsweise das Zuschneiden."
   ]
  },
  {
   "cell_type": "code",
   "execution_count": null,
   "id": "e22af92e",
   "metadata": {
    "deletable": false
   },
   "outputs": [],
   "source": [
    "cropped_img = img.crop((10, 10, 180, 180))\n",
    "cropped_img"
   ]
  },
  {
   "cell_type": "markdown",
   "id": "e9477d38",
   "metadata": {
    "deletable": false,
    "editable": false
   },
   "source": [
    "Ein Projekt, das mit dem Lesen hunderter Seiten beginnen sollte, kann mit der Hilfe fremden Codes so in wenigen Minuten gelöst werden. Im weiteren Verlauf lernen Sie daher weitere Bibliotheken kennen, die Sie bei der Arbeit als Datenwissenschaftler unterstützen. Ein grundsätzliches Verständnis für Python wird dabei jedoch immer notwendig sein."
   ]
  }
 ],
 "metadata": {
  "kernelspec": {
   "display_name": "Python 3 (ipykernel)",
   "language": "python",
   "name": "python3"
  },
  "language_info": {
   "codemirror_mode": {
    "name": "ipython",
    "version": 3
   },
   "file_extension": ".py",
   "mimetype": "text/x-python",
   "name": "python",
   "nbconvert_exporter": "python",
   "pygments_lexer": "ipython3",
   "version": "3.12.11"
  }
 },
 "nbformat": 4,
 "nbformat_minor": 5
}

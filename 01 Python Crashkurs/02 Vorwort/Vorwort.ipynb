{
 "cells": [
  {
   "cell_type": "markdown",
   "id": "a47b6979",
   "metadata": {
    "deletable": false,
    "editable": false
   },
   "source": [
    "# Vorwort"
   ]
  },
  {
   "cell_type": "markdown",
   "id": "f40691e0",
   "metadata": {
    "deletable": false,
    "editable": false
   },
   "source": [
    "## Inhaltsverzeichnis\n",
    "- [Kommentare](#Kommentare)"
   ]
  },
  {
   "cell_type": "markdown",
   "id": "e48ae955",
   "metadata": {
    "deletable": false,
    "editable": false
   },
   "source": [
    "## Kommentare\n",
    "Kommentare im Quellcode sind immens wichtig. Sie ermöglichen es, Gedanken und Anmerkungen, die nicht direkt ersichtlich sind, festzuhalten ohne das Programm zu verändern. Die meisten deutschen oder englischen Sätze stellen darüber hinaus keinen syntaktisch korrekten Quellcode dar, sodass gar keine Ausführung möglich wäre.\n",
    "\n",
    "In Python existieren (wie in vielen Programmiersprachen) zwei verschiedene Arten von Kommentaren."
   ]
  },
  {
   "cell_type": "code",
   "execution_count": null,
   "id": "41a96c81",
   "metadata": {
    "deletable": false
   },
   "outputs": [],
   "source": [
    "# Einzeilige Kommentare werden mit einer Raute eingeleitet\n",
    "# und schließen die aktuelle Zeile von der Ausführung aus.\n",
    "a = 1\n",
    "\n",
    "# Sie können auch verwendet werden, um einzelne Anweisungen\n",
    "# \"auszukommentieren\". Nach dem Ausführen dieser Zelle werden\n",
    "# Sie feststellen, dass `a` den Wert `1` besitzt.\n",
    "\n",
    "# a = 2\n",
    "\n",
    "a"
   ]
  },
  {
   "cell_type": "code",
   "execution_count": null,
   "id": "414fdff3",
   "metadata": {
    "deletable": false
   },
   "outputs": [],
   "source": [
    "\"\"\"\n",
    "Mehrzeilige Kommentare werden durch drei Anführungszeichen\n",
    "eingeschlossen. Somit muss nicht jede Zeile einzeln mit\n",
    "einer Raute versehen werden.\n",
    "\"\"\"\n",
    "b = 3\n",
    "\n",
    "'''\n",
    "Welche Anführungszeichen verwendet werden, ist nicht relevant.\n",
    "Es müssen jedoch die selben Anführungszeichen zum Schließen\n",
    "verwendet werden, die auch zum Öffnen des Kommentarbereichs\n",
    "verwendet wurden.\n",
    "\n",
    "b = 4\n",
    "'''\n",
    "\n",
    "b"
   ]
  }
 ],
 "metadata": {
  "kernelspec": {
   "display_name": "Python 3 (ipykernel)",
   "language": "python",
   "name": "python3"
  },
  "language_info": {
   "codemirror_mode": {
    "name": "ipython",
    "version": 3
   },
   "file_extension": ".py",
   "mimetype": "text/x-python",
   "name": "python",
   "nbconvert_exporter": "python",
   "pygments_lexer": "ipython3",
   "version": "3.8.10"
  }
 },
 "nbformat": 4,
 "nbformat_minor": 5
}

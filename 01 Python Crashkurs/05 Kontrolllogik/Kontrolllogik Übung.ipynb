{
 "cells": [
  {
   "cell_type": "markdown",
   "id": "efe3f382",
   "metadata": {
    "deletable": false,
    "editable": false
   },
   "source": [
    "# Kontrolllogik Übungsaufgaben\n",
    "Importieren Sie zuerst die Tests für dieses Übungsblatt."
   ]
  },
  {
   "cell_type": "code",
   "execution_count": null,
   "id": "1665a7dc",
   "metadata": {
    "deletable": false,
    "editable": false
   },
   "outputs": [],
   "source": [
    "from tui_rvds.python.flow import *"
   ]
  },
  {
   "cell_type": "markdown",
   "id": "577c16a1",
   "metadata": {
    "deletable": false,
    "editable": false
   },
   "source": [
    "## Aufgabe 1\n",
    "Schreiben Sie eine Funktion `sort`, die drei ganze Zahlen als Parameter akzeptiert. Ordnen Sie die Werte ihrer Größe nach aufsteigend und geben Sie die Werte in der korrekten Reihenfolge zurück. Verwenden Sie ausschließlich Verzweigungen und Vergleiche."
   ]
  },
  {
   "cell_type": "code",
   "execution_count": null,
   "id": "1c28f1ca",
   "metadata": {
    "deletable": false,
    "tags": [
     "task-1"
    ]
   },
   "outputs": [],
   "source": [
    "def sort(a, b, c):\n",
    "    ..."
   ]
  },
  {
   "cell_type": "code",
   "execution_count": null,
   "id": "4833d121",
   "metadata": {
    "deletable": false,
    "editable": false
   },
   "outputs": [],
   "source": [
    "aufgabe1(sort)"
   ]
  },
  {
   "attachments": {
    "1.png": {
     "image/png": "[encoded data removed]"
    }
   },
   "cell_type": "markdown",
   "id": "a29b1c64",
   "metadata": {
    "deletable": false,
    "editable": false
   },
   "source": [
    "## Bonusaufgabe\n",
    "Nachfolgend sehen Sie den Plan der U-Bahn-Linien einer fiktiven Stadt.\n",
    "\n",
    "![Karte](attachment:1.png)\n",
    "\n",
    "Der Fahrpreis zwischen zwei Stationen berechnet sich wie folgt:\n",
    "- Der Grundpreis einer Fahrt beträgt zwei Euro. Liegen die Stationen direkt nebeneinander und ist die Strecke zwischen ihnen befahrbar, sinkt der Grundpreis auf einen Euro.\n",
    "- Jede Überkreuzung der Innenstadtgrenze hinweg fügt einen Euro den Kosten hinzu.\n",
    "- Jede genutzte Endhaltestelle fügt einen Euro den Kosten hinzu.\n",
    "- Die Strecke zwischen `21` und `31` wird gebaut und kann nicht verwendet werden.\n",
    "\n",
    "Schreiben Sie eine Funktion `price`, die als Parameter zwei Stationen in Form ganzer Zahlen erwartet und den Preis in Euro zurückgibt. Wenn zwei gleiche Stationen eingegeben werden, soll ein Preis von $0$ Euro zurückgegeben werden."
   ]
  },
  {
   "cell_type": "code",
   "execution_count": null,
   "id": "c80b14d6",
   "metadata": {
    "deletable": false,
    "tags": [
     "task-2"
    ]
   },
   "outputs": [],
   "source": [
    "def price(station1, station2):\n",
    "    ..."
   ]
  },
  {
   "cell_type": "code",
   "execution_count": null,
   "id": "0486de3d",
   "metadata": {
    "deletable": false,
    "editable": false
   },
   "outputs": [],
   "source": [
    "aufgabe2(price)"
   ]
  }
 ],
 "metadata": {
  "kernelspec": {
   "display_name": "Python 3 (ipykernel)",
   "language": "python",
   "name": "python3"
  },
  "language_info": {
   "codemirror_mode": {
    "name": "ipython",
    "version": 3
   },
   "file_extension": ".py",
   "mimetype": "text/x-python",
   "name": "python",
   "nbconvert_exporter": "python",
   "pygments_lexer": "ipython3",
   "version": "3.12.11"
  }
 },
 "nbformat": 4,
 "nbformat_minor": 5
}

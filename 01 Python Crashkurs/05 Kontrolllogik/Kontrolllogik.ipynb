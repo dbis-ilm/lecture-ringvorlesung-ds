{
 "cells": [
  {
   "cell_type": "markdown",
   "id": "e04756e5",
   "metadata": {
    "deletable": false,
    "editable": false
   },
   "source": [
    "# Kontrolllogik\n",
    "Python erlaubt komplexe logische Vergleiche und Bedingungen. Damit können Programme geschrieben werden, die nicht linear ablaufen müssen, sondern je nach Eingabe oder Ergebnis von Berechnungen verschiedene Pfade wählen können."
   ]
  },
  {
   "cell_type": "markdown",
   "id": "1df03830",
   "metadata": {
    "deletable": false,
    "editable": false
   },
   "source": [
    "## Inhaltsverzeichnis\n",
    "- [Vergleiche](#Vergleiche)\n",
    "- [Logische Operatoren](#Logische-Operatoren)\n",
    "- [Blöcke](#Blöcke)\n",
    "- [Bedingte Verzweigungen](#Bedingte-Verzweigungen)\n",
    "- [Bedingte Wiederholungen](#Bedingte-Wiederholungen)"
   ]
  },
  {
   "cell_type": "markdown",
   "id": "b79eef30",
   "metadata": {
    "deletable": false,
    "editable": false
   },
   "source": [
    "## Vergleiche\n",
    "Im vorangegangenen Abschnitt haben Sie bereits den Datentyp `bool` kennengelernt, der Wahrheitswerte in Python abbildet. Am häufigsten werden Wahrheitswerte durch Vergleiche erzeugt. Diese funktionieren wie in der Mathematik und geben wahr oder falsch zurück."
   ]
  },
  {
   "cell_type": "code",
   "execution_count": null,
   "id": "7ab37616",
   "metadata": {
    "deletable": false
   },
   "outputs": [],
   "source": [
    "1 < 2, 2 < 2"
   ]
  },
  {
   "cell_type": "code",
   "execution_count": null,
   "id": "5227e87e",
   "metadata": {
    "deletable": false
   },
   "outputs": [],
   "source": [
    "2 <= 2, 5 <= 4"
   ]
  },
  {
   "cell_type": "code",
   "execution_count": null,
   "id": "bbde263f",
   "metadata": {
    "deletable": false
   },
   "outputs": [],
   "source": [
    "5 >= 4, 5 >= 6"
   ]
  },
  {
   "cell_type": "code",
   "execution_count": null,
   "id": "c47019bc",
   "metadata": {
    "deletable": false
   },
   "outputs": [],
   "source": [
    "9 > 8, 5 > 5"
   ]
  },
  {
   "cell_type": "markdown",
   "id": "b999ee39",
   "metadata": {
    "deletable": false,
    "editable": false
   },
   "source": [
    "Zur Prüfung auf Gleichheit verwenden Sie `==`. Ungleichheit dagegen lässt sich mit `!=` prüfen."
   ]
  },
  {
   "cell_type": "code",
   "execution_count": null,
   "id": "09a1f57f",
   "metadata": {
    "deletable": false
   },
   "outputs": [],
   "source": [
    "12 == 12, 12 == 13"
   ]
  },
  {
   "cell_type": "code",
   "execution_count": null,
   "id": "408b2d8f",
   "metadata": {
    "deletable": false
   },
   "outputs": [],
   "source": [
    "21 != 25, 33 != 33"
   ]
  },
  {
   "cell_type": "markdown",
   "id": "85936d51",
   "metadata": {
    "deletable": false,
    "editable": false
   },
   "source": [
    "Mit dem Operator `is` lassen sich zudem Objekte auf Gleichheit hinsichtlicher einer eindeutigen ID prüfen, die sich auch nach scheinbar wirklungslosen Veränderungen unterscheiden."
   ]
  },
  {
   "cell_type": "code",
   "execution_count": null,
   "id": "168f420e",
   "metadata": {
    "deletable": false
   },
   "outputs": [],
   "source": [
    "a = 'a'\n",
    "b = 'a'.lower()\n",
    "a, b, a == b, a is b"
   ]
  },
  {
   "cell_type": "markdown",
   "id": "f6c45e96",
   "metadata": {
    "deletable": false,
    "editable": false
   },
   "source": [
    "Im Gegensatz zu anderen Programmiersprachen, vereinfacht Python einige Vergleiche. So lassen sich beispielsweise Strings mit den zweistelligen Operatoren vergleichen."
   ]
  },
  {
   "cell_type": "code",
   "execution_count": null,
   "id": "8fbdabde",
   "metadata": {
    "deletable": false
   },
   "outputs": [],
   "source": [
    "'Affe' < 'Banane'"
   ]
  },
  {
   "cell_type": "markdown",
   "id": "1991f909",
   "metadata": {
    "deletable": false,
    "editable": false
   },
   "source": [
    "Beachten Sie, dass dabei stellenweise entsprechend der ASCII-Tabelle geprüft wird. Ziffern sind somit kleiner als Großbuchstaben und diese sind kleiner als Kleinbuchstaben."
   ]
  },
  {
   "cell_type": "code",
   "execution_count": null,
   "id": "5afe57e2",
   "metadata": {
    "deletable": false
   },
   "outputs": [],
   "source": [
    "'affe' < 'Banane'"
   ]
  },
  {
   "cell_type": "markdown",
   "id": "7c47e869",
   "metadata": {
    "deletable": false,
    "editable": false
   },
   "source": [
    "Listen werden elementweise verglichen."
   ]
  },
  {
   "cell_type": "code",
   "execution_count": null,
   "id": "88eaccf1",
   "metadata": {
    "deletable": false
   },
   "outputs": [],
   "source": [
    "[1, 2, 3] == [1, 2, 3]"
   ]
  },
  {
   "cell_type": "markdown",
   "id": "a03de6f0",
   "metadata": {
    "deletable": false,
    "editable": false
   },
   "source": [
    "Außerdem ist es möglich, Vergleiche zu verketten. In C ergibt der folgende Vergleich unabhängig des Wertes von `x` immer `True`, während in Python das erwartete Ergebnis zurückgeliefert wird."
   ]
  },
  {
   "cell_type": "code",
   "execution_count": null,
   "id": "5422bc1f",
   "metadata": {
    "deletable": false
   },
   "outputs": [],
   "source": [
    "x = 2\n",
    "1 < x < 2"
   ]
  },
  {
   "cell_type": "markdown",
   "id": "a1ed0518",
   "metadata": {
    "deletable": false,
    "editable": false
   },
   "source": [
    "## Logische Operatoren\n",
    "Logische Operatoren dienen der Verknüpfung boolescher Werte.\n",
    "\n",
    "**Negation**: Die Negation kehrt einen Wahrheitswert um.\n",
    "\n",
    "|       | `False` | `True`  |\n",
    "| ----- | ------- | ------- |\n",
    "| `not` | `True`  | `False` |"
   ]
  },
  {
   "cell_type": "code",
   "execution_count": null,
   "id": "eee3c12b",
   "metadata": {
    "deletable": false
   },
   "outputs": [],
   "source": [
    "not 1 < 2"
   ]
  },
  {
   "cell_type": "markdown",
   "id": "e4ca2a06",
   "metadata": {
    "deletable": false,
    "editable": false
   },
   "source": [
    "**Konjunktion**: Die Konjunktion ist wahr, wenn beide Operanden wahr sind.\n",
    "\n",
    "| `and`   | `False` | `True`  |\n",
    "| ------- | ------- | ------- |\n",
    "| `False` | `False` | `False` |\n",
    "| `True`  | `False` | `True`  |"
   ]
  },
  {
   "cell_type": "code",
   "execution_count": null,
   "id": "f677eeed",
   "metadata": {
    "deletable": false
   },
   "outputs": [],
   "source": [
    "1 < 2 and 5 < 6"
   ]
  },
  {
   "cell_type": "markdown",
   "id": "4f7a8d2f",
   "metadata": {
    "deletable": false,
    "editable": false
   },
   "source": [
    "**Disjunktion**: Die Disjunktion ist wahr, wenn mindestens einer der Operanden wahr ist.\n",
    "\n",
    "| `or`    | `False` | `True`  |\n",
    "| ------- | ------- | ------- |\n",
    "| `False` | `False` | `True`  |\n",
    "| `True`  | `True`  | `True`  |"
   ]
  },
  {
   "cell_type": "code",
   "execution_count": null,
   "id": "5f852a12",
   "metadata": {
    "deletable": false
   },
   "outputs": [],
   "source": [
    "1 < 2 or 11 < 5"
   ]
  },
  {
   "cell_type": "markdown",
   "id": "e0db5b0b",
   "metadata": {
    "deletable": false,
    "editable": false
   },
   "source": [
    "Die Auswertung erfolgt in der Reihenfolge Negation, Konjunktion und Disjunktion."
   ]
  },
  {
   "cell_type": "code",
   "execution_count": null,
   "id": "d89f18b5",
   "metadata": {
    "deletable": false
   },
   "outputs": [],
   "source": [
    "True or False and False"
   ]
  },
  {
   "cell_type": "markdown",
   "id": "ae958cab",
   "metadata": {
    "deletable": false,
    "editable": false
   },
   "source": [
    "Eine Änderung der Auswertungsreihenfolge erreichen Sie durch Setzen von Klammern. Soll die vorangegangene Verknüpfung beispielsweise von links nach rechts ausgeführt werden, ist ein Paar Klammern notwendig."
   ]
  },
  {
   "cell_type": "code",
   "execution_count": null,
   "id": "743e32da",
   "metadata": {
    "deletable": false
   },
   "outputs": [],
   "source": [
    "(True or False) and False"
   ]
  },
  {
   "cell_type": "markdown",
   "id": "494e3245",
   "metadata": {
    "deletable": false,
    "editable": false
   },
   "source": [
    "## Blöcke\n",
    "Ein Block ist ein Abschnitt innerhalb eines Programms, der zusammengehörige Anweisungen bündelt. In Python beginnen Blöcke immer durch eine Anweisung, die von einem Doppelpunkt beendet wird. Die darauffolgenden Anweisungen werden durch Einrückungen mit vier Leerzeichen oder einem Tabstopp gekennzeichnet. Sobald die Einrückung beendent wird, gilt auch der Block als beendet.\n",
    "\n",
    "```python\n",
    "Anweisung 1\n",
    "\n",
    "Anweisungskopf:\n",
    "    Anweisung 2.1\n",
    "    Anweisung 2.2\n",
    "    ...\n",
    "    Anweisung 2.n\n",
    "\n",
    "Anweisung 3\n",
    "```\n",
    "\n",
    "In vielen Sprachen werden zur Kennzeichnung geschweifte Klammern oder spezielle Schlüsselworte verwendet. Python dagegen erzwingt durch die Verwendung von Einrückungen auch gleichzeitig das Schreiben von lesbarerem Code, was besonders Programmieranfängern entgegenkommt. Im Folgenden werden Sie einige Kontrollstrukturen kennenlernen, die Blöcke verwenden und diese auch ineinander stapeln."
   ]
  },
  {
   "cell_type": "markdown",
   "id": "b6146457",
   "metadata": {
    "deletable": false,
    "editable": false
   },
   "source": [
    "## Bedingte Verzweigungen\n",
    "Zuvor wurde bereits angedeutet, dass der Programmverlauf durch den Wert von Variablen beeinflusst werden kann. Dies geschieht durch Verzweigungen. Der Inhalt des nachfolgenden `if` Blocks wird nur ausgeführt, wenn die Bedingung wahr ist:"
   ]
  },
  {
   "cell_type": "code",
   "execution_count": null,
   "id": "7d94a610",
   "metadata": {
    "deletable": false
   },
   "outputs": [],
   "source": [
    "if 1 == 1:\n",
    "    print('1 == 1')\n",
    "\n",
    "if 1 == 2:\n",
    "    print('1 == 2')"
   ]
  },
  {
   "cell_type": "markdown",
   "id": "7cb28748",
   "metadata": {
    "deletable": false,
    "editable": false
   },
   "source": [
    "Um den gegenteiligen Fall behandeln zu können, existiert zusätzlich die Möglichkeit, `else` an einen `if` Block anzuhängen."
   ]
  },
  {
   "cell_type": "code",
   "execution_count": null,
   "id": "12aa95c3",
   "metadata": {
    "deletable": false
   },
   "outputs": [],
   "source": [
    "if 1 == 2:\n",
    "    print('1 == 2')\n",
    "else:\n",
    "    print('1 != 2')"
   ]
  },
  {
   "cell_type": "markdown",
   "id": "1b7c86cf",
   "metadata": {
    "deletable": false,
    "editable": false
   },
   "source": [
    "Mehrere verschiedene Fälle mit gemeinsamer Alternative lassen sich durch die Verwendung von `elif` - kurz für `else if` - abbilden."
   ]
  },
  {
   "cell_type": "code",
   "execution_count": null,
   "id": "8430417a",
   "metadata": {
    "deletable": false
   },
   "outputs": [],
   "source": [
    "if 1 == 2:\n",
    "    print('1 == 2')\n",
    "elif 2 == 2:\n",
    "    print('2 == 2')\n",
    "else:\n",
    "    print('else')"
   ]
  },
  {
   "cell_type": "markdown",
   "id": "acf502c2",
   "metadata": {
    "deletable": false,
    "editable": false
   },
   "source": [
    "Seit Python 3.10 gibt es außerdem sogenanntes *Structural Pattern Matching*, die äquivalent zu `switch` Statements in anderen Sprachen Verzweigungen mit vielen Fällen übersichtlicher darstellen. Die folgende Zelle können Sie daher nur ohne Fehler ausführen, wenn Sie mindestens Python 3.10 verwenden."
   ]
  },
  {
   "cell_type": "code",
   "execution_count": null,
   "id": "7cf5352c",
   "metadata": {
    "deletable": false
   },
   "outputs": [],
   "source": [
    "match 2:\n",
    "    case 1:\n",
    "        print('1 == 2')\n",
    "    case 2:\n",
    "        print('2 == 2')\n",
    "    case _:\n",
    "        print('else')"
   ]
  },
  {
   "cell_type": "markdown",
   "id": "7c5cf9af",
   "metadata": {
    "deletable": false,
    "editable": false
   },
   "source": [
    "## Bedingte Wiederholungen\n",
    "Während bedingte Verzweigungen genau einmal ausgeführt werden, durchläuft Python bedingte Wiederholungen so lange, wie die Bedingung wahr ist."
   ]
  },
  {
   "cell_type": "code",
   "execution_count": null,
   "id": "60d0dbec",
   "metadata": {
    "deletable": false
   },
   "outputs": [],
   "source": [
    "x = 10\n",
    "while x > 0:\n",
    "    x = x - 2\n",
    "    print(x)"
   ]
  },
  {
   "cell_type": "markdown",
   "id": "24904f60",
   "metadata": {
    "deletable": false,
    "editable": false
   },
   "source": [
    "Ist sie zu Beginn falsch, wird der gesamte Block übersprungen."
   ]
  },
  {
   "cell_type": "code",
   "execution_count": null,
   "id": "658b4356",
   "metadata": {
    "deletable": false
   },
   "outputs": [],
   "source": [
    "x = 0\n",
    "while x > 0:\n",
    "    x = x - 2\n",
    "    print(x)"
   ]
  },
  {
   "cell_type": "markdown",
   "id": "0b89da06",
   "metadata": {
    "deletable": false,
    "editable": false
   },
   "source": [
    "Mit `break` lässt sich dabei unabhängig der Laufbedingung aus der Schleife \"ausbrechen\"."
   ]
  },
  {
   "cell_type": "code",
   "execution_count": null,
   "id": "aa9542d0",
   "metadata": {
    "deletable": false
   },
   "outputs": [],
   "source": [
    "x = 10\n",
    "while x > 0:\n",
    "    x = x - 2\n",
    "\n",
    "    if x == 2:\n",
    "        break\n",
    "\n",
    "    print(x)"
   ]
  },
  {
   "cell_type": "markdown",
   "id": "9532b0ed",
   "metadata": {
    "deletable": false,
    "editable": false
   },
   "source": [
    "Mit `continue` kann dagegen der aktuelle Lauf unterbrochen werden, um anschließend mit dem darauffolgenden fortzufahren."
   ]
  },
  {
   "cell_type": "code",
   "execution_count": null,
   "id": "ca51d996",
   "metadata": {
    "deletable": false
   },
   "outputs": [],
   "source": [
    "x = 10\n",
    "while x > 0:\n",
    "    x = x - 2\n",
    "\n",
    "    if x == 2:\n",
    "        continue\n",
    "\n",
    "    print(x)"
   ]
  }
 ],
 "metadata": {
  "kernelspec": {
   "display_name": "Python 3 (ipykernel)",
   "language": "python",
   "name": "python3"
  },
  "language_info": {
   "codemirror_mode": {
    "name": "ipython",
    "version": 3
   },
   "file_extension": ".py",
   "mimetype": "text/x-python",
   "name": "python",
   "nbconvert_exporter": "python",
   "pygments_lexer": "ipython3",
   "version": "3.8.10"
  }
 },
 "nbformat": 4,
 "nbformat_minor": 5
}

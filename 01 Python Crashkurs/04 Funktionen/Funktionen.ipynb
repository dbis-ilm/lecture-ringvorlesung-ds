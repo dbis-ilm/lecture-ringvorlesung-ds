{
 "cells": [
  {
   "cell_type": "markdown",
   "id": "5153084b",
   "metadata": {
    "deletable": false,
    "editable": false
   },
   "source": [
    "# Funktionen\n",
    "Funktionen sind einer der wichtigsten Bestandteile, um Code zu strukturieren. Denn selbst wenn Sie zur Präsentation Ihrer Ergebnisse keine Funktionen selbst schreiben müssen, werden Sie ständig Funktionen anderer Entwickler verwenden wollen. An dieser Stelle wird daher der Begriff der Funktion, die Verwendung von Parametern und die Möglichkeiten der Ergebnisrückgabe vorgestellt."
   ]
  },
  {
   "cell_type": "markdown",
   "id": "bb9e8f83",
   "metadata": {
    "deletable": false,
    "editable": false
   },
   "source": [
    "## Inhaltsverzeichnis\n",
    "- [Definition](#Definition)\n",
    "- [Parameter](#Parameter)\n",
    "- [Rückgabewerte](#Rückgabewerte)"
   ]
  },
  {
   "cell_type": "markdown",
   "id": "fd55c8ae",
   "metadata": {
    "deletable": false,
    "editable": false
   },
   "source": [
    "## Definition"
   ]
  },
  {
   "cell_type": "markdown",
   "id": "e2498e5a",
   "metadata": {
    "deletable": false,
    "editable": false
   },
   "source": [
    "Funktionen sind mehrfach aufrufbare Objekte, die durch das Schlüsselwort `def` eingeleitet werden. Anschließend folgt ein eindeutiger Bezeichner gefolgt vom Klammern und einem Doppelpunkt. Der darauffolgende, eingerückte Block enthält Programmcode, der erst nach dem Aufruf der Funktion ausgeführt wird."
   ]
  },
  {
   "cell_type": "code",
   "execution_count": null,
   "id": "7f52c931",
   "metadata": {
    "deletable": false
   },
   "outputs": [],
   "source": [
    "def print_5():\n",
    "    print(5)"
   ]
  },
  {
   "cell_type": "markdown",
   "id": "f6e785e0",
   "metadata": {
    "deletable": false,
    "editable": false
   },
   "source": [
    "Der Bezeichner verhält sich zunächst wie eine Variable mit dem Typ `function` und kann tatsächlich auch zugewiesen oder weitergegeben werden."
   ]
  },
  {
   "cell_type": "code",
   "execution_count": null,
   "id": "5316cc4c",
   "metadata": {
    "deletable": false
   },
   "outputs": [],
   "source": [
    "print_five = print_5\n",
    "print_5"
   ]
  },
  {
   "cell_type": "markdown",
   "id": "37f6f1ea",
   "metadata": {
    "deletable": false,
    "editable": false
   },
   "source": [
    "Aufgerufen wird die Funktion durch den Namen gefolgt von Klammern. Anschließend wird der Programmcode im eingerückten Block der Funktion ausgeführt."
   ]
  },
  {
   "cell_type": "code",
   "execution_count": null,
   "id": "c84e0d07",
   "metadata": {
    "deletable": false
   },
   "outputs": [],
   "source": [
    "print_5()"
   ]
  },
  {
   "cell_type": "markdown",
   "id": "16642611",
   "metadata": {
    "deletable": false,
    "editable": false
   },
   "source": [
    "## Parameter"
   ]
  },
  {
   "cell_type": "markdown",
   "id": "ac540395",
   "metadata": {
    "deletable": false,
    "editable": false
   },
   "source": [
    "Funktionen können Parameter besitzen, um Daten vom aufrufenden Programmbestandteil zu erhalten. Sie werden damit abstrakter und wiederverwendbar. So helfen sie nicht nur, den Code besser zu strukturieren, sondern auch, redundante Programmbestandteile zu vermeiden.\n",
    "\n",
    "Parameter werden anhand ihres Namens referenziert und bei der Definition der Funktion durch Kommata getrennt zwischen den Klammern angegeben. Innerhalb der Funktion stehen sie dann wie normale Variablen zur Verfügung. Beim Aufruf muss die selbe Anzahl an Werten übergeben werden, wie die Funktion an Parametern erwartet. (Diese Werte können selbst auch Variablen sein. Allerdings müssen diese im aufrufenden Programmteil gültig und mit einem Wert belegt sein.)"
   ]
  },
  {
   "cell_type": "code",
   "execution_count": null,
   "id": "dc353875",
   "metadata": {
    "deletable": false
   },
   "outputs": [],
   "source": [
    "def print_numbers(number1, number2):\n",
    "    print(number1, number2)"
   ]
  },
  {
   "cell_type": "code",
   "execution_count": null,
   "id": "2ed48c65",
   "metadata": {
    "deletable": false
   },
   "outputs": [],
   "source": [
    "a_number = 22\n",
    "print_numbers(16, a_number)"
   ]
  },
  {
   "cell_type": "markdown",
   "id": "d60ec613",
   "metadata": {
    "deletable": false,
    "editable": false
   },
   "source": [
    "Sie können Standardwerte für Parameter festlegen. Wird ein Parameter beim Aufruf nicht belegt, nutzt Python stattdessen den vorgegebene Wert."
   ]
  },
  {
   "cell_type": "code",
   "execution_count": null,
   "id": "77708e3c",
   "metadata": {
    "deletable": false
   },
   "outputs": [],
   "source": [
    "def print_numbers(number1, number2=2):\n",
    "    print(number1, number2)\n",
    "\n",
    "print_numbers(1)\n",
    "print_numbers(1, 5)"
   ]
  },
  {
   "cell_type": "markdown",
   "id": "0a78bed9",
   "metadata": {
    "deletable": false,
    "editable": false
   },
   "source": [
    "Bei vielen Parametern mit Standardwerten kann es vorkommen, dass Sie nur den letzten mit einem Wert übergeben wollen. In diesem Fall müssten Sie die Standardwerte aller vorhergehenden Parameter kopieren und in Ihrem Aufruf verwenden. Als Alternative bietet Python benannte Parameter."
   ]
  },
  {
   "cell_type": "code",
   "execution_count": null,
   "id": "cf3b6d1a",
   "metadata": {
    "deletable": false
   },
   "outputs": [],
   "source": [
    "def print_numbers(number1=1, number2=2):\n",
    "    print(number1, number2)\n",
    "\n",
    "print_numbers(number2=5)"
   ]
  },
  {
   "cell_type": "markdown",
   "id": "5332a04b",
   "metadata": {
    "deletable": false,
    "editable": false
   },
   "source": [
    "Es ist außerdem möglich, innerhalb einer Funktion eine beliebige Anzahl an Parametern zu empfangen. Dem Parameter wird dabei bei der Definition ein Stern `*` vorangestellt. Der Datentyp ist dann ein Tupel."
   ]
  },
  {
   "cell_type": "code",
   "execution_count": null,
   "id": "8549e8b4",
   "metadata": {
    "deletable": false
   },
   "outputs": [],
   "source": [
    "def print_numbers(*numbers):\n",
    "    print(numbers)\n",
    "\n",
    "print_numbers(1, 3, 5)"
   ]
  },
  {
   "cell_type": "markdown",
   "id": "83732394",
   "metadata": {
    "deletable": false,
    "editable": false
   },
   "source": [
    "Alternativ existiert eine Schreibweise mit zwei Sternen `**` vor dem Parameternamen. In diesem Parameter werden dann die Namen und Werte aller benannten Parameter beim Aufruf in einem Dictionary gesammelt."
   ]
  },
  {
   "cell_type": "code",
   "execution_count": null,
   "id": "dd77a670",
   "metadata": {
    "deletable": false
   },
   "outputs": [],
   "source": [
    "def print_numbers(**numbers):\n",
    "    print(numbers)\n",
    "\n",
    "print_numbers(number1=1, number2=3, number3=5)"
   ]
  },
  {
   "cell_type": "markdown",
   "id": "83722e44",
   "metadata": {
    "deletable": false,
    "editable": false
   },
   "source": [
    "## Rückgabewerte\n",
    "Nun wissen Sie, wie veränderliche Daten an eine Funktion übergeben werden. Häufig werden Sie aber auch das Ergebnis der innerhalb der Funktion erfolgten Berechnung weiter verwenden wollen. Wie in vielen anderen Programmiersprachen bietet Python dafür das Schlüsselwort `return`.\n",
    "\n",
    "`return` beendet sofort die Ausführung der Funktion. Folgt dahinter eine Konstante, Variable oder ein Ausdruck, der einen Wert zurückgibt, wird der Wert an den aufrufenden Programmbestandteil zurückgegeben."
   ]
  },
  {
   "cell_type": "code",
   "execution_count": null,
   "id": "bb324033",
   "metadata": {
    "deletable": false
   },
   "outputs": [],
   "source": [
    "def add(number1, number2):\n",
    "    number3 = number1 + number2\n",
    "    return number3\n",
    "\n",
    "result = add(5, 3)\n",
    "print(result)"
   ]
  },
  {
   "cell_type": "markdown",
   "id": "68643ddb",
   "metadata": {
    "deletable": false,
    "editable": false
   },
   "source": [
    "Es können sogar ganze Listen von Rückgabewertern angegeben werden. Der Rückgabetyp ist dann ein Tupel."
   ]
  },
  {
   "cell_type": "code",
   "execution_count": null,
   "id": "d7b22710",
   "metadata": {
    "deletable": false
   },
   "outputs": [],
   "source": [
    "def calc(number1, number2):\n",
    "    return number1 + number2, number1 - number2\n",
    "\n",
    "result = calc(5, 3)\n",
    "print('result:', result)"
   ]
  },
  {
   "cell_type": "markdown",
   "id": "cb6ff759",
   "metadata": {
    "deletable": false,
    "editable": false
   },
   "source": [
    "`return` kann außerdem verwendet werden, um eine Funktion vorzeitig abzubrechen. Steht kein Wert hinter `return` oder ist gar kein solches Statement in der Funktion enthalten, wird `None` zurückgegeben."
   ]
  },
  {
   "cell_type": "code",
   "execution_count": null,
   "id": "7035bfe9",
   "metadata": {
    "deletable": false
   },
   "outputs": [],
   "source": [
    "def no_return(number1):\n",
    "    return\n",
    "    print(number1)\n",
    "\n",
    "result = no_return(5)\n",
    "print('result:', result)"
   ]
  }
 ],
 "metadata": {
  "kernelspec": {
   "display_name": "Python 3 (ipykernel)",
   "language": "python",
   "name": "python3"
  },
  "language_info": {
   "codemirror_mode": {
    "name": "ipython",
    "version": 3
   },
   "file_extension": ".py",
   "mimetype": "text/x-python",
   "name": "python",
   "nbconvert_exporter": "python",
   "pygments_lexer": "ipython3",
   "version": "3.12.11"
  }
 },
 "nbformat": 4,
 "nbformat_minor": 5
}
